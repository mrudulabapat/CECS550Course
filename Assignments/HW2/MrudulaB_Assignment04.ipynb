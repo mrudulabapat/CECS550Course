{
 "cells": [
  {
   "cell_type": "markdown",
   "id": "35779386",
   "metadata": {},
   "source": [
    "#  Deep Neural Networks Project"
   ]
  },
  {
   "cell_type": "markdown",
   "id": "da82c2ab",
   "metadata": {},
   "source": [
    "In this project, you will be working with a real-world data set from the Las Vegas Metropolitan Police Department. The dataset  contains information about the reported incidents, including the time and location of the crime, type of incident, and number of persons involved. "
   ]
  },
  {
   "cell_type": "markdown",
   "id": "c3dde0bc",
   "metadata": {},
   "source": [
    "The dataset is downloaded from the public docket at: \n",
    "https://opendata-lvmpd.hub.arcgis.com\n",
    "\n",
    "let's read the csv file and transform the data:"
   ]
  },
  {
   "cell_type": "code",
   "execution_count": 1,
   "id": "ffb508ff",
   "metadata": {},
   "outputs": [],
   "source": [
    "import torch\n",
    "import pandas as pd\n",
    "from torch.utils.data import DataLoader, Dataset\n",
    "import matplotlib.pyplot as plt\n",
    "import seaborn as sns\n",
    "import numpy as np"
   ]
  },
  {
   "cell_type": "code",
   "execution_count": 2,
   "id": "e55f9e70",
   "metadata": {},
   "outputs": [],
   "source": [
    "orig_df = pd.read_csv('C:/Users/bapat/OneDrive/Desktop/CSULB_Course/03 - Fall 23/PR/02 - Assignments/Assignment04/datasets/LVMPD-Stats.csv', parse_dates=['ReportedOn'])"
   ]
  },
  {
   "cell_type": "code",
   "execution_count": 3,
   "id": "24539985",
   "metadata": {},
   "outputs": [],
   "source": [
    "df = pd.read_csv('C:/Users/bapat/OneDrive/Desktop/CSULB_Course/03 - Fall 23/PR/02 - Assignments/Assignment04/datasets/LVMPD-Stats.csv', parse_dates=['ReportedOn'],\n",
    "                 usecols = ['X', 'Y', 'ReportedOn',\n",
    "                            'Area_Command','NIBRSOffenseCode',\n",
    "                            'VictimCount' ] )\n",
    "\n",
    "df['DayOfWeek'] = df['ReportedOn'].dt.day_name()\n",
    "df['Time' ]     = df['ReportedOn'].dt.hour\n",
    "df.drop(columns = 'ReportedOn', inplace=True)"
   ]
  },
  {
   "cell_type": "code",
   "execution_count": 4,
   "id": "2c53fba5",
   "metadata": {},
   "outputs": [],
   "source": [
    "df['X'] = df['X'] \n",
    "df['Y'] = df['Y'] \n",
    "df['Time'] = pd.factorize(df['Time'])[0]\n",
    "df['DayOfWeek'] = pd.factorize(df['DayOfWeek'])[0]\n",
    "df.Area_Command = pd.factorize(df['Area_Command'])[0]\n",
    "df.VictimCount = pd.factorize(df['VictimCount'])[0]\n",
    "df.NIBRSOffenseCode = pd.factorize(df['NIBRSOffenseCode'])[0]\n",
    "df.dropna(inplace=True)"
   ]
  },
  {
   "cell_type": "code",
   "execution_count": 5,
   "id": "6b94dec5",
   "metadata": {},
   "outputs": [],
   "source": [
    "df= df[['X', 'Y', 'Area_Command', 'NIBRSOffenseCode', 'DayOfWeek', 'Time','VictimCount']]"
   ]
  },
  {
   "cell_type": "code",
   "execution_count": 7,
   "id": "7277cf73",
   "metadata": {},
   "outputs": [
    {
     "data": {
      "text/plain": [
       "(275, 7)"
      ]
     },
     "execution_count": 7,
     "metadata": {},
     "output_type": "execute_result"
    }
   ],
   "source": [
    "df.values.shape"
   ]
  },
  {
   "cell_type": "markdown",
   "id": "db2d5b60",
   "metadata": {},
   "source": [
    "# Goal\n",
    "The goal is to build a predictive model that is trained on the following data:\n",
    "* latitude and longitude (location)\n",
    "* Hour of the day\n",
    "* Day of the week\n",
    "* Area-of-command code: The police designation of the bureau of the operation.\n",
    "* Classification code for the crime committed\n",
    "  \n",
    "The predicted variable is the number of persons involved in the accident."
   ]
  },
  {
   "cell_type": "markdown",
   "id": "3db166a8",
   "metadata": {},
   "source": [
    "## Task 1\n",
    "* print a few rows of the values in the dataframe ``df`` and explain what each column of data means. \n",
    "* identify the input and target variables\n",
    "* what is the range of values in each column? Do you need to scale, shift or normalize your data? "
   ]
  },
  {
   "cell_type": "code",
   "execution_count": 9,
   "id": "b35e312a",
   "metadata": {},
   "outputs": [
    {
     "data": {
      "text/html": [
       "<div>\n",
       "<style scoped>\n",
       "    .dataframe tbody tr th:only-of-type {\n",
       "        vertical-align: middle;\n",
       "    }\n",
       "\n",
       "    .dataframe tbody tr th {\n",
       "        vertical-align: top;\n",
       "    }\n",
       "\n",
       "    .dataframe thead th {\n",
       "        text-align: right;\n",
       "    }\n",
       "</style>\n",
       "<table border=\"1\" class=\"dataframe\">\n",
       "  <thead>\n",
       "    <tr style=\"text-align: right;\">\n",
       "      <th></th>\n",
       "      <th>X</th>\n",
       "      <th>Y</th>\n",
       "      <th>Area_Command</th>\n",
       "      <th>NIBRSOffenseCode</th>\n",
       "      <th>DayOfWeek</th>\n",
       "      <th>Time</th>\n",
       "      <th>VictimCount</th>\n",
       "    </tr>\n",
       "  </thead>\n",
       "  <tbody>\n",
       "    <tr>\n",
       "      <th>0</th>\n",
       "      <td>0.663899</td>\n",
       "      <td>0.594478</td>\n",
       "      <td>0</td>\n",
       "      <td>0</td>\n",
       "      <td>0</td>\n",
       "      <td>0</td>\n",
       "      <td>0</td>\n",
       "    </tr>\n",
       "    <tr>\n",
       "      <th>1</th>\n",
       "      <td>0.552832</td>\n",
       "      <td>0.580495</td>\n",
       "      <td>1</td>\n",
       "      <td>1</td>\n",
       "      <td>1</td>\n",
       "      <td>1</td>\n",
       "      <td>0</td>\n",
       "    </tr>\n",
       "    <tr>\n",
       "      <th>2</th>\n",
       "      <td>0.623467</td>\n",
       "      <td>0.576165</td>\n",
       "      <td>2</td>\n",
       "      <td>1</td>\n",
       "      <td>2</td>\n",
       "      <td>0</td>\n",
       "      <td>1</td>\n",
       "    </tr>\n",
       "    <tr>\n",
       "      <th>3</th>\n",
       "      <td>0.563860</td>\n",
       "      <td>0.543189</td>\n",
       "      <td>3</td>\n",
       "      <td>1</td>\n",
       "      <td>1</td>\n",
       "      <td>2</td>\n",
       "      <td>2</td>\n",
       "    </tr>\n",
       "    <tr>\n",
       "      <th>4</th>\n",
       "      <td>0.599006</td>\n",
       "      <td>0.531973</td>\n",
       "      <td>4</td>\n",
       "      <td>1</td>\n",
       "      <td>1</td>\n",
       "      <td>3</td>\n",
       "      <td>0</td>\n",
       "    </tr>\n",
       "  </tbody>\n",
       "</table>\n",
       "</div>"
      ],
      "text/plain": [
       "          X         Y  Area_Command  NIBRSOffenseCode  DayOfWeek  Time  \\\n",
       "0  0.663899  0.594478             0                 0          0     0   \n",
       "1  0.552832  0.580495             1                 1          1     1   \n",
       "2  0.623467  0.576165             2                 1          2     0   \n",
       "3  0.563860  0.543189             3                 1          1     2   \n",
       "4  0.599006  0.531973             4                 1          1     3   \n",
       "\n",
       "   VictimCount  \n",
       "0            0  \n",
       "1            0  \n",
       "2            1  \n",
       "3            2  \n",
       "4            0  "
      ]
     },
     "execution_count": 9,
     "metadata": {},
     "output_type": "execute_result"
    }
   ],
   "source": [
    "df.head()"
   ]
  },
  {
   "cell_type": "markdown",
   "id": "48cb91f0",
   "metadata": {},
   "source": [
    "#### Columns in the dataframe\n",
    "From the above data, the X and Y columns represent the X and Y coordinate values of the location of the crime. The area_command represents the police designation of the bureau of the operation and NIBRSOffenceCode gives the classification code of the offense taken place. The DayOfTheWeek represent the days of the week in the form of 0-6. Then there is the Time column for the hour at which the crime took place and the VictimCount is the number of victims against which the crime took place."
   ]
  },
  {
   "cell_type": "markdown",
   "id": "3230e6fb",
   "metadata": {},
   "source": [
    "#### The input variables are the X, Y, Area_command, NIBRSOffenseCode, DayOfWeek and Time."
   ]
  },
  {
   "cell_type": "markdown",
   "id": "9e17722e",
   "metadata": {},
   "source": [
    "#### The target variable is the VictimCount."
   ]
  },
  {
   "cell_type": "code",
   "execution_count": 10,
   "id": "5733b8a0",
   "metadata": {},
   "outputs": [
    {
     "data": {
      "text/plain": [
       "X                    1.0\n",
       "Y                    1.0\n",
       "Area_Command        11.0\n",
       "NIBRSOffenseCode     2.0\n",
       "DayOfWeek            6.0\n",
       "Time                23.0\n",
       "VictimCount          6.0\n",
       "dtype: float64"
      ]
     },
     "execution_count": 10,
     "metadata": {},
     "output_type": "execute_result"
    }
   ],
   "source": [
    "# Calculate the range for each column\n",
    "column_ranges = df.max() - df.min()\n",
    "column_ranges"
   ]
  },
  {
   "cell_type": "markdown",
   "id": "f4281934",
   "metadata": {},
   "source": [
    "THe X and Y columns need normalizing because these values are not scaled and gradient descent works best on scaled values. Therefore we normalize data using min-max scalar."
   ]
  },
  {
   "cell_type": "code",
   "execution_count": 11,
   "id": "de5369c9",
   "metadata": {},
   "outputs": [],
   "source": [
    "from sklearn.preprocessing import MinMaxScaler\n",
    "\n",
    "scaler = MinMaxScaler()\n",
    "\n",
    "# Fit and transform the scaler on the 'X' and 'Y' columns\n",
    "df[['X', 'Y']] = scaler.fit_transform(df[['X', 'Y']])"
   ]
  },
  {
   "cell_type": "code",
   "execution_count": 12,
   "id": "524495f8",
   "metadata": {},
   "outputs": [
    {
     "data": {
      "text/html": [
       "<div>\n",
       "<style scoped>\n",
       "    .dataframe tbody tr th:only-of-type {\n",
       "        vertical-align: middle;\n",
       "    }\n",
       "\n",
       "    .dataframe tbody tr th {\n",
       "        vertical-align: top;\n",
       "    }\n",
       "\n",
       "    .dataframe thead th {\n",
       "        text-align: right;\n",
       "    }\n",
       "</style>\n",
       "<table border=\"1\" class=\"dataframe\">\n",
       "  <thead>\n",
       "    <tr style=\"text-align: right;\">\n",
       "      <th></th>\n",
       "      <th>X</th>\n",
       "      <th>Y</th>\n",
       "      <th>Area_Command</th>\n",
       "      <th>NIBRSOffenseCode</th>\n",
       "      <th>DayOfWeek</th>\n",
       "      <th>Time</th>\n",
       "      <th>VictimCount</th>\n",
       "    </tr>\n",
       "  </thead>\n",
       "  <tbody>\n",
       "    <tr>\n",
       "      <th>0</th>\n",
       "      <td>0.663899</td>\n",
       "      <td>0.594478</td>\n",
       "      <td>0</td>\n",
       "      <td>0</td>\n",
       "      <td>0</td>\n",
       "      <td>0</td>\n",
       "      <td>0</td>\n",
       "    </tr>\n",
       "    <tr>\n",
       "      <th>1</th>\n",
       "      <td>0.552832</td>\n",
       "      <td>0.580495</td>\n",
       "      <td>1</td>\n",
       "      <td>1</td>\n",
       "      <td>1</td>\n",
       "      <td>1</td>\n",
       "      <td>0</td>\n",
       "    </tr>\n",
       "    <tr>\n",
       "      <th>2</th>\n",
       "      <td>0.623467</td>\n",
       "      <td>0.576165</td>\n",
       "      <td>2</td>\n",
       "      <td>1</td>\n",
       "      <td>2</td>\n",
       "      <td>0</td>\n",
       "      <td>1</td>\n",
       "    </tr>\n",
       "    <tr>\n",
       "      <th>3</th>\n",
       "      <td>0.563860</td>\n",
       "      <td>0.543189</td>\n",
       "      <td>3</td>\n",
       "      <td>1</td>\n",
       "      <td>1</td>\n",
       "      <td>2</td>\n",
       "      <td>2</td>\n",
       "    </tr>\n",
       "    <tr>\n",
       "      <th>4</th>\n",
       "      <td>0.599006</td>\n",
       "      <td>0.531973</td>\n",
       "      <td>4</td>\n",
       "      <td>1</td>\n",
       "      <td>1</td>\n",
       "      <td>3</td>\n",
       "      <td>0</td>\n",
       "    </tr>\n",
       "  </tbody>\n",
       "</table>\n",
       "</div>"
      ],
      "text/plain": [
       "          X         Y  Area_Command  NIBRSOffenseCode  DayOfWeek  Time  \\\n",
       "0  0.663899  0.594478             0                 0          0     0   \n",
       "1  0.552832  0.580495             1                 1          1     1   \n",
       "2  0.623467  0.576165             2                 1          2     0   \n",
       "3  0.563860  0.543189             3                 1          1     2   \n",
       "4  0.599006  0.531973             4                 1          1     3   \n",
       "\n",
       "   VictimCount  \n",
       "0            0  \n",
       "1            0  \n",
       "2            1  \n",
       "3            2  \n",
       "4            0  "
      ]
     },
     "execution_count": 12,
     "metadata": {},
     "output_type": "execute_result"
    }
   ],
   "source": [
    "df.head()"
   ]
  },
  {
   "cell_type": "markdown",
   "id": "d2c6dcda",
   "metadata": {},
   "source": [
    "# Task 2 \n",
    "\n",
    "* Create two `DataLoader` objects for training and testing based on the input and output variables. Pick a reasonable batch size and verify the shape of data by iterating over the one dataset and printing the shape of the batched data. "
   ]
  },
  {
   "cell_type": "code",
   "execution_count": 13,
   "id": "a0b03b1c",
   "metadata": {},
   "outputs": [],
   "source": [
    "# Extract input_data and output_data from the DataFrame\n",
    "input_col = df[['X', 'Y', 'Area_Command', 'NIBRSOffenseCode', 'DayOfWeek', 'Time']].values\n",
    "target_col = df['VictimCount'].values"
   ]
  },
  {
   "cell_type": "code",
   "execution_count": 14,
   "id": "c75d4474",
   "metadata": {},
   "outputs": [],
   "source": [
    "# Convert the data to PyTorch tensors\n",
    "input_tensor = torch.tensor(input_col, dtype=torch.float32)\n",
    "target_tensor = torch.tensor(target_col, dtype=torch.float32)"
   ]
  },
  {
   "cell_type": "code",
   "execution_count": 17,
   "id": "bf23d8ea",
   "metadata": {},
   "outputs": [],
   "source": [
    "#Define batch size\n",
    "batch_size = 20"
   ]
  },
  {
   "cell_type": "code",
   "execution_count": 15,
   "id": "cbedc391",
   "metadata": {},
   "outputs": [],
   "source": [
    "# Create TensorDatasets for training and testing\n",
    "from torch.utils.data import TensorDataset, DataLoader\n",
    "train = TensorDataset(input_tensor[:200], target_tensor[:200])\n",
    "test = TensorDataset(input_tensor[200:], target_tensor[200:]) "
   ]
  },
  {
   "cell_type": "code",
   "execution_count": 29,
   "id": "d222d85d",
   "metadata": {},
   "outputs": [
    {
     "data": {
      "text/plain": [
       "200"
      ]
     },
     "execution_count": 29,
     "metadata": {},
     "output_type": "execute_result"
    }
   ],
   "source": [
    "len(train)"
   ]
  },
  {
   "cell_type": "code",
   "execution_count": 30,
   "id": "53ac8fff",
   "metadata": {},
   "outputs": [
    {
     "data": {
      "text/plain": [
       "75"
      ]
     },
     "execution_count": 30,
     "metadata": {},
     "output_type": "execute_result"
    }
   ],
   "source": [
    "len(test)"
   ]
  },
  {
   "cell_type": "code",
   "execution_count": 18,
   "id": "56715bf3",
   "metadata": {},
   "outputs": [],
   "source": [
    "# Create DataLoader objects\n",
    "train_dataloader = DataLoader(train, batch_size=batch_size, shuffle=True)\n",
    "test_dataloader = DataLoader(test, batch_size=batch_size, shuffle=False)"
   ]
  },
  {
   "cell_type": "code",
   "execution_count": 32,
   "id": "d74bb261",
   "metadata": {},
   "outputs": [
    {
     "name": "stdout",
     "output_type": "stream",
     "text": [
      "Input Batch Shape: torch.Size([20, 6])\n",
      "Output Batch Shape: torch.Size([20])\n"
     ]
    }
   ],
   "source": [
    "for batch in train_dataloader:\n",
    "    input_batch, output_batch = batch\n",
    "    print(\"Input Batch Shape:\", input_batch.shape)\n",
    "    print(\"Output Batch Shape:\", output_batch.shape)\n",
    "    break"
   ]
  },
  {
   "cell_type": "markdown",
   "id": "906cf111",
   "metadata": {},
   "source": [
    "# Task 3\n",
    "In this task you will try to predict number of crime victims as a **real number**. Therefore the machine learning problem is a **regression** problem. \n",
    "\n",
    "* Define the proper loss function for this task\n",
    "* what should the size of the predicted output be?\n",
    "* explain your choice of architecture, including how many layers you will be using\n",
    "* define an optimizer for training this model, choose a proper learning rate \n",
    "* write a training loop that obtains a batch out of the  training data and calculates the forward and backward passes over the neural network. Call the optimizer to update the weights of the neural network.\n",
    "* write a for loop that continues the training over a number of epochs. At the end of each epoch, calculate the ``MSE`` error on the test data and print it.\n",
    "* is your model training well? Adjust the learning rate, hidden size of the network, and try different activation functions and number of layers to achieve the best accuracy and report it. "
   ]
  },
  {
   "cell_type": "markdown",
   "id": "373c0ed8",
   "metadata": {},
   "source": [
    "### Loss function: \n",
    "The loss function that I would be using for this problem is Mean-Squared-Error. MSE is the loss function widely used for regression problems and is defined as:"
   ]
  },
  {
   "cell_type": "markdown",
   "id": "5f887cc9",
   "metadata": {},
   "source": [
    "$$\n",
    "   MSE = 1/N \\sum_i (y_i - \\hat{y_i})^2\n",
    "$$"
   ]
  },
  {
   "cell_type": "markdown",
   "id": "4a222302",
   "metadata": {},
   "source": [
    "where N is the number of samples. Summation is from i = 1 to N and yi is the expected values and yi^ is the predicted output."
   ]
  },
  {
   "cell_type": "markdown",
   "id": "436d026e",
   "metadata": {},
   "source": [
    "### Size of predicted output\n",
    "Because this is a regression problem and we would be predicting 1 real number,the size of the predicted output will be 1."
   ]
  },
  {
   "cell_type": "markdown",
   "id": "b0f5b959",
   "metadata": {},
   "source": [
    "### Architecture of the neural network\n",
    "Initially, the neural network that I would be using would have 1 input layer, 1 hidden layer and an output layer.\n",
    "The input layer would have a size of 6 as there are 6 input features to feed in the network, the hidden layer will have 64 neurons in its layer and the output layer will have a single perceptron as we are predicting a real number as the output."
   ]
  },
  {
   "cell_type": "code",
   "execution_count": 24,
   "id": "95ed1d28",
   "metadata": {},
   "outputs": [],
   "source": [
    "import torch.nn as nn"
   ]
  },
  {
   "cell_type": "code",
   "execution_count": 25,
   "id": "b9b13c1e",
   "metadata": {},
   "outputs": [],
   "source": [
    "class RegressionModel(nn.Module):\n",
    "    def __init__(self, input_size, hidden_size, output_size):\n",
    "        super(RegressionModel, self).__init__()\n",
    "        self.fc1 = nn.Linear(input_size, hidden_size)\n",
    "        self.relu = nn.ReLU()\n",
    "        self.fc2 = nn.Linear(hidden_size, output_size)\n",
    "\n",
    "    def forward(self, x):\n",
    "        x = self.fc1(x)\n",
    "        x = self.relu(x)\n",
    "        x = self.fc2(x)\n",
    "        return x"
   ]
  },
  {
   "cell_type": "code",
   "execution_count": 27,
   "id": "02bf38c6",
   "metadata": {},
   "outputs": [],
   "source": [
    "input_size = 6\n",
    "hidden_size = 64\n",
    "output_size = 1"
   ]
  },
  {
   "cell_type": "code",
   "execution_count": 28,
   "id": "86dc6a13",
   "metadata": {},
   "outputs": [],
   "source": [
    "model = RegressionModel(input_size, hidden_size, output_size)"
   ]
  },
  {
   "cell_type": "code",
   "execution_count": 18,
   "id": "d2177609",
   "metadata": {},
   "outputs": [],
   "source": [
    "criterion = nn.MSELoss()"
   ]
  },
  {
   "cell_type": "markdown",
   "id": "2c352be3",
   "metadata": {},
   "source": [
    "### Optimizer for the neural network\n",
    "The optimizer that I would be using is the Stochastic Gradient descent. The gradient descent is used for finding the local minima or maxima of the objective function. It helps to minimize the cost function.\n",
    "\n",
    "Initially, I would be using the learning_rate = 0.01 and then checking the results."
   ]
  },
  {
   "cell_type": "code",
   "execution_count": 20,
   "id": "9391cde2",
   "metadata": {},
   "outputs": [],
   "source": [
    "import torch.optim as optim"
   ]
  },
  {
   "cell_type": "code",
   "execution_count": 29,
   "id": "ffab4ecb",
   "metadata": {},
   "outputs": [],
   "source": [
    "optimizer = optim.SGD(model.parameters(), lr=0.01)"
   ]
  },
  {
   "cell_type": "code",
   "execution_count": 20,
   "id": "30a1234e",
   "metadata": {},
   "outputs": [
    {
     "name": "stdout",
     "output_type": "stream",
     "text": [
      " Loss:0.43587684631347656\n",
      " Loss:9.900419235229492\n",
      " Loss:4505153.0\n",
      " Loss:1736.2291259765625\n",
      " Loss:1691.521728515625\n",
      " Loss:1620.826904296875\n",
      " Loss:1533.3251953125\n",
      " Loss:1472.7369384765625\n",
      " Loss:1432.975341796875\n",
      " Loss:1379.9605712890625\n"
     ]
    }
   ],
   "source": [
    "for inputs, targets in train_dataloader:\n",
    "    # Zero the gradients\n",
    "    optimizer.zero_grad()\n",
    "\n",
    "    # Forward pass\n",
    "    outputs = model(inputs)\n",
    "    targets = targets.view(-1, 1)\n",
    "    # Compute the loss\n",
    "    loss = criterion(outputs, targets)\n",
    "\n",
    "    # Backpropagation\n",
    "    loss.backward()\n",
    "    # Update the weights\n",
    "    optimizer.step()\n",
    "\n",
    "    # Print the loss for this epoch\n",
    "    print(' Loss:' + str(loss.item()))\n"
   ]
  },
  {
   "cell_type": "code",
   "execution_count": 21,
   "id": "967d28a3",
   "metadata": {},
   "outputs": [
    {
     "name": "stderr",
     "output_type": "stream",
     "text": [
      "C:\\Users\\bapat\\anaconda3\\envs\\ai_assignment01\\Lib\\site-packages\\torch\\nn\\modules\\loss.py:535: UserWarning: Using a target size (torch.Size([20])) that is different to the input size (torch.Size([20, 1])). This will likely lead to incorrect results due to broadcasting. Please ensure they have the same size.\n",
      "  return F.mse_loss(input, target, reduction=self.reduction)\n",
      "C:\\Users\\bapat\\anaconda3\\envs\\ai_assignment01\\Lib\\site-packages\\torch\\nn\\modules\\loss.py:535: UserWarning: Using a target size (torch.Size([15])) that is different to the input size (torch.Size([15, 1])). This will likely lead to incorrect results due to broadcasting. Please ensure they have the same size.\n",
      "  return F.mse_loss(input, target, reduction=self.reduction)\n"
     ]
    },
    {
     "name": "stdout",
     "output_type": "stream",
     "text": [
      "Epoch [1/100], Avg. Training Loss: 1101.1217, Test MSE: 861.0634\n",
      "Epoch [2/100], Avg. Training Loss: 735.3682, Test MSE: 573.0739\n",
      "Epoch [3/100], Avg. Training Loss: 491.1804, Test MSE: 381.1876\n",
      "Epoch [4/100], Avg. Training Loss: 328.1548, Test MSE: 253.4609\n",
      "Epoch [5/100], Avg. Training Loss: 219.3413, Test MSE: 168.4921\n",
      "Epoch [6/100], Avg. Training Loss: 146.6859, Test MSE: 111.9827\n",
      "Epoch [7/100], Avg. Training Loss: 98.1760, Test MSE: 74.4445\n",
      "Epoch [8/100], Avg. Training Loss: 65.7774, Test MSE: 49.5396\n",
      "Epoch [9/100], Avg. Training Loss: 44.1551, Test MSE: 33.0437\n",
      "Epoch [10/100], Avg. Training Loss: 29.7135, Test MSE: 22.1279\n",
      "Epoch [11/100], Avg. Training Loss: 20.0752, Test MSE: 14.9326\n",
      "Epoch [12/100], Avg. Training Loss: 13.6400, Test MSE: 10.1935\n",
      "Epoch [13/100], Avg. Training Loss: 9.3376, Test MSE: 7.0856\n",
      "Epoch [14/100], Avg. Training Loss: 6.4687, Test MSE: 5.0601\n",
      "Epoch [15/100], Avg. Training Loss: 4.5533, Test MSE: 3.7463\n",
      "Epoch [16/100], Avg. Training Loss: 3.2750, Test MSE: 2.8991\n",
      "Epoch [17/100], Avg. Training Loss: 2.4212, Test MSE: 2.3609\n",
      "Epoch [18/100], Avg. Training Loss: 1.8542, Test MSE: 2.0239\n",
      "Epoch [19/100], Avg. Training Loss: 1.4746, Test MSE: 1.8142\n",
      "Epoch [20/100], Avg. Training Loss: 1.2210, Test MSE: 1.6884\n",
      "Epoch [21/100], Avg. Training Loss: 1.0513, Test MSE: 1.6157\n",
      "Epoch [22/100], Avg. Training Loss: 0.9386, Test MSE: 1.5767\n",
      "Epoch [23/100], Avg. Training Loss: 0.8631, Test MSE: 1.5579\n",
      "Epoch [24/100], Avg. Training Loss: 0.8127, Test MSE: 1.5516\n",
      "Epoch [25/100], Avg. Training Loss: 0.7787, Test MSE: 1.5524\n",
      "Epoch [26/100], Avg. Training Loss: 0.7570, Test MSE: 1.5570\n",
      "Epoch [27/100], Avg. Training Loss: 0.7419, Test MSE: 1.5634\n",
      "Epoch [28/100], Avg. Training Loss: 0.7319, Test MSE: 1.5704\n",
      "Epoch [29/100], Avg. Training Loss: 0.7248, Test MSE: 1.5778\n",
      "Epoch [30/100], Avg. Training Loss: 0.7199, Test MSE: 1.5843\n",
      "Epoch [31/100], Avg. Training Loss: 0.7170, Test MSE: 1.5898\n",
      "Epoch [32/100], Avg. Training Loss: 0.7152, Test MSE: 1.5946\n",
      "Epoch [33/100], Avg. Training Loss: 0.7141, Test MSE: 1.5989\n",
      "Epoch [34/100], Avg. Training Loss: 0.7131, Test MSE: 1.6025\n",
      "Epoch [35/100], Avg. Training Loss: 0.7127, Test MSE: 1.6063\n",
      "Epoch [36/100], Avg. Training Loss: 0.7119, Test MSE: 1.6093\n",
      "Epoch [37/100], Avg. Training Loss: 0.7118, Test MSE: 1.6111\n",
      "Epoch [38/100], Avg. Training Loss: 0.7113, Test MSE: 1.6132\n",
      "Epoch [39/100], Avg. Training Loss: 0.7111, Test MSE: 1.6147\n",
      "Epoch [40/100], Avg. Training Loss: 0.7112, Test MSE: 1.6164\n",
      "Epoch [41/100], Avg. Training Loss: 0.7113, Test MSE: 1.6178\n",
      "Epoch [42/100], Avg. Training Loss: 0.7111, Test MSE: 1.6186\n",
      "Epoch [43/100], Avg. Training Loss: 0.7112, Test MSE: 1.6191\n",
      "Epoch [44/100], Avg. Training Loss: 0.7109, Test MSE: 1.6195\n",
      "Epoch [45/100], Avg. Training Loss: 0.7111, Test MSE: 1.6202\n",
      "Epoch [46/100], Avg. Training Loss: 0.7109, Test MSE: 1.6206\n",
      "Epoch [47/100], Avg. Training Loss: 0.7110, Test MSE: 1.6209\n",
      "Epoch [48/100], Avg. Training Loss: 0.7108, Test MSE: 1.6213\n",
      "Epoch [49/100], Avg. Training Loss: 0.7112, Test MSE: 1.6214\n",
      "Epoch [50/100], Avg. Training Loss: 0.7112, Test MSE: 1.6214\n",
      "Epoch [51/100], Avg. Training Loss: 0.7107, Test MSE: 1.6217\n",
      "Epoch [52/100], Avg. Training Loss: 0.7113, Test MSE: 1.6215\n",
      "Epoch [53/100], Avg. Training Loss: 0.7112, Test MSE: 1.6213\n",
      "Epoch [54/100], Avg. Training Loss: 0.7110, Test MSE: 1.6216\n",
      "Epoch [55/100], Avg. Training Loss: 0.7107, Test MSE: 1.6224\n",
      "Epoch [56/100], Avg. Training Loss: 0.7111, Test MSE: 1.6225\n",
      "Epoch [57/100], Avg. Training Loss: 0.7107, Test MSE: 1.6224\n",
      "Epoch [58/100], Avg. Training Loss: 0.7108, Test MSE: 1.6230\n",
      "Epoch [59/100], Avg. Training Loss: 0.7115, Test MSE: 1.6239\n",
      "Epoch [60/100], Avg. Training Loss: 0.7107, Test MSE: 1.6235\n",
      "Epoch [61/100], Avg. Training Loss: 0.7107, Test MSE: 1.6234\n",
      "Epoch [62/100], Avg. Training Loss: 0.7109, Test MSE: 1.6233\n",
      "Epoch [63/100], Avg. Training Loss: 0.7108, Test MSE: 1.6232\n",
      "Epoch [64/100], Avg. Training Loss: 0.7106, Test MSE: 1.6229\n",
      "Epoch [65/100], Avg. Training Loss: 0.7116, Test MSE: 1.6235\n",
      "Epoch [66/100], Avg. Training Loss: 0.7115, Test MSE: 1.6230\n",
      "Epoch [67/100], Avg. Training Loss: 0.7112, Test MSE: 1.6235\n",
      "Epoch [68/100], Avg. Training Loss: 0.7112, Test MSE: 1.6237\n",
      "Epoch [69/100], Avg. Training Loss: 0.7109, Test MSE: 1.6233\n",
      "Epoch [70/100], Avg. Training Loss: 0.7109, Test MSE: 1.6228\n",
      "Epoch [71/100], Avg. Training Loss: 0.7108, Test MSE: 1.6226\n",
      "Epoch [72/100], Avg. Training Loss: 0.7107, Test MSE: 1.6224\n",
      "Epoch [73/100], Avg. Training Loss: 0.7107, Test MSE: 1.6225\n",
      "Epoch [74/100], Avg. Training Loss: 0.7115, Test MSE: 1.6225\n",
      "Epoch [75/100], Avg. Training Loss: 0.7107, Test MSE: 1.6228\n",
      "Epoch [76/100], Avg. Training Loss: 0.7111, Test MSE: 1.6219\n",
      "Epoch [77/100], Avg. Training Loss: 0.7111, Test MSE: 1.6221\n",
      "Epoch [78/100], Avg. Training Loss: 0.7110, Test MSE: 1.6225\n",
      "Epoch [79/100], Avg. Training Loss: 0.7110, Test MSE: 1.6220\n",
      "Epoch [80/100], Avg. Training Loss: 0.7107, Test MSE: 1.6221\n",
      "Epoch [81/100], Avg. Training Loss: 0.7107, Test MSE: 1.6220\n",
      "Epoch [82/100], Avg. Training Loss: 0.7113, Test MSE: 1.6217\n",
      "Epoch [83/100], Avg. Training Loss: 0.7108, Test MSE: 1.6218\n",
      "Epoch [84/100], Avg. Training Loss: 0.7110, Test MSE: 1.6229\n",
      "Epoch [85/100], Avg. Training Loss: 0.7109, Test MSE: 1.6228\n",
      "Epoch [86/100], Avg. Training Loss: 0.7110, Test MSE: 1.6227\n",
      "Epoch [87/100], Avg. Training Loss: 0.7108, Test MSE: 1.6229\n",
      "Epoch [88/100], Avg. Training Loss: 0.7112, Test MSE: 1.6237\n",
      "Epoch [89/100], Avg. Training Loss: 0.7109, Test MSE: 1.6234\n",
      "Epoch [90/100], Avg. Training Loss: 0.7110, Test MSE: 1.6225\n",
      "Epoch [91/100], Avg. Training Loss: 0.7113, Test MSE: 1.6229\n",
      "Epoch [92/100], Avg. Training Loss: 0.7114, Test MSE: 1.6218\n",
      "Epoch [93/100], Avg. Training Loss: 0.7110, Test MSE: 1.6224\n",
      "Epoch [94/100], Avg. Training Loss: 0.7110, Test MSE: 1.6227\n",
      "Epoch [95/100], Avg. Training Loss: 0.7113, Test MSE: 1.6224\n",
      "Epoch [96/100], Avg. Training Loss: 0.7109, Test MSE: 1.6222\n",
      "Epoch [97/100], Avg. Training Loss: 0.7108, Test MSE: 1.6224\n",
      "Epoch [98/100], Avg. Training Loss: 0.7108, Test MSE: 1.6225\n",
      "Epoch [99/100], Avg. Training Loss: 0.7116, Test MSE: 1.6231\n",
      "Epoch [100/100], Avg. Training Loss: 0.7107, Test MSE: 1.6232\n"
     ]
    }
   ],
   "source": [
    "# Training loop\n",
    "num_epochs = 100  # Number of training epochs\n",
    "for epoch in range(num_epochs):\n",
    "    total_loss = 0.0\n",
    "    total_samples = 0\n",
    "\n",
    "    for inputs, targets in train_dataloader:\n",
    "        optimizer.zero_grad()\n",
    "        outputs = model(inputs)\n",
    "        loss = criterion(outputs, targets)\n",
    "        loss.backward()\n",
    "        optimizer.step()\n",
    "\n",
    "        total_loss += loss.item() * len(inputs)\n",
    "        total_samples += len(inputs)\n",
    "\n",
    "    # Calculate MSE on test data at the end of each epoch\n",
    "    total_mse = 0.0\n",
    "    total_test_samples = 0\n",
    "    with torch.no_grad():  # Ensure no gradient computation during evaluation\n",
    "        for test_inputs, test_targets in test_dataloader:\n",
    "            test_outputs = model(test_inputs)\n",
    "            total_mse += criterion(test_outputs, test_targets) * len(test_inputs)\n",
    "            total_test_samples += len(test_inputs)\n",
    "    \n",
    "    mse = total_mse / total_test_samples\n",
    "    avg_loss = total_loss / total_samples\n",
    "    \n",
    "    # Print the training loss and test MSE at the end of each epoch\n",
    "    print(f'Epoch [{epoch + 1}/{num_epochs}], Avg. Training Loss: {avg_loss:.4f}, Test MSE: {mse.item():.4f}')\n"
   ]
  },
  {
   "cell_type": "code",
   "execution_count": 30,
   "id": "758822de",
   "metadata": {},
   "outputs": [],
   "source": [
    "#Building the neural network with increased number of layers\n",
    "class RegressionModel2(nn.Module):\n",
    "    def __init__(self, input_size, hidden_sizes, output_size):\n",
    "        super(RegressionModel2, self).__init__()\n",
    "        self.input_layer = nn.Linear(input_size, hidden_sizes[0])\n",
    "        self.hidden_layers = nn.ModuleList([\n",
    "            nn.Linear(hidden_sizes[i], hidden_sizes[i+1]) for i in range(len(hidden_sizes) - 1)\n",
    "        ])\n",
    "        self.output_layer = nn.Linear(hidden_sizes[-1], output_size)\n",
    "        self.relu = nn.ReLU()\n",
    "\n",
    "    def forward(self, x):\n",
    "        x = self.input_layer(x)\n",
    "        x = self.relu(x)\n",
    "        for layer in self.hidden_layers:\n",
    "            x = self.relu(layer(x))\n",
    "        x = self.output_layer(x)\n",
    "        return x"
   ]
  },
  {
   "cell_type": "code",
   "execution_count": 31,
   "id": "ffe23df7",
   "metadata": {},
   "outputs": [],
   "source": [
    "# Define your model hyperparameters\n",
    "input_size = 6  # Assuming 6 input features\n",
    "hidden_sizes = [128, 64, 32]  # Specify the sizes of the hidden layers\n",
    "output_size = 1\n",
    "\n",
    "# Create an instance of the regression model\n",
    "model2 = RegressionModel2(input_size, hidden_sizes, output_size)\n",
    "\n",
    "# Define loss function and optimizer\n",
    "criterion2 = nn.MSELoss()\n",
    "optimizer2 = optim.SGD(model2.parameters(), lr=0.1)"
   ]
  },
  {
   "cell_type": "code",
   "execution_count": 32,
   "id": "aef90284",
   "metadata": {},
   "outputs": [
    {
     "name": "stderr",
     "output_type": "stream",
     "text": [
      "C:\\Users\\bapat\\anaconda3\\envs\\ai_assignment01\\Lib\\site-packages\\torch\\nn\\modules\\loss.py:535: UserWarning: Using a target size (torch.Size([20])) that is different to the input size (torch.Size([20, 1])). This will likely lead to incorrect results due to broadcasting. Please ensure they have the same size.\n",
      "  return F.mse_loss(input, target, reduction=self.reduction)\n",
      "C:\\Users\\bapat\\anaconda3\\envs\\ai_assignment01\\Lib\\site-packages\\torch\\nn\\modules\\loss.py:535: UserWarning: Using a target size (torch.Size([15])) that is different to the input size (torch.Size([15, 1])). This will likely lead to incorrect results due to broadcasting. Please ensure they have the same size.\n",
      "  return F.mse_loss(input, target, reduction=self.reduction)\n"
     ]
    },
    {
     "name": "stdout",
     "output_type": "stream",
     "text": [
      "Epoch [1/100], Avg. Training Loss: 0.9561, Test MSE: 1.6657\n",
      "Epoch [2/100], Avg. Training Loss: 0.7400, Test MSE: 1.6608\n",
      "Epoch [3/100], Avg. Training Loss: 0.7181, Test MSE: 1.6123\n",
      "Epoch [4/100], Avg. Training Loss: 0.7152, Test MSE: 1.6644\n",
      "Epoch [5/100], Avg. Training Loss: 0.7170, Test MSE: 1.6224\n",
      "Epoch [6/100], Avg. Training Loss: 0.7150, Test MSE: 1.6081\n",
      "Epoch [7/100], Avg. Training Loss: 0.7195, Test MSE: 1.6309\n",
      "Epoch [8/100], Avg. Training Loss: 0.7154, Test MSE: 1.6200\n",
      "Epoch [9/100], Avg. Training Loss: 0.7173, Test MSE: 1.6386\n",
      "Epoch [10/100], Avg. Training Loss: 0.7159, Test MSE: 1.6344\n",
      "Epoch [11/100], Avg. Training Loss: 0.7121, Test MSE: 1.5981\n",
      "Epoch [12/100], Avg. Training Loss: 0.7089, Test MSE: 1.6531\n",
      "Epoch [13/100], Avg. Training Loss: 0.7128, Test MSE: 1.6491\n",
      "Epoch [14/100], Avg. Training Loss: 0.7255, Test MSE: 1.6212\n",
      "Epoch [15/100], Avg. Training Loss: 0.7193, Test MSE: 1.6052\n",
      "Epoch [16/100], Avg. Training Loss: 0.7220, Test MSE: 1.6374\n",
      "Epoch [17/100], Avg. Training Loss: 0.7169, Test MSE: 1.6232\n",
      "Epoch [18/100], Avg. Training Loss: 0.7186, Test MSE: 1.6366\n",
      "Epoch [19/100], Avg. Training Loss: 0.7180, Test MSE: 1.5939\n",
      "Epoch [20/100], Avg. Training Loss: 0.7222, Test MSE: 1.6050\n",
      "Epoch [21/100], Avg. Training Loss: 0.7114, Test MSE: 1.6509\n",
      "Epoch [22/100], Avg. Training Loss: 0.7142, Test MSE: 1.6125\n",
      "Epoch [23/100], Avg. Training Loss: 0.7192, Test MSE: 1.6258\n",
      "Epoch [24/100], Avg. Training Loss: 0.7128, Test MSE: 1.6352\n",
      "Epoch [25/100], Avg. Training Loss: 0.7150, Test MSE: 1.6344\n",
      "Epoch [26/100], Avg. Training Loss: 0.7112, Test MSE: 1.5991\n",
      "Epoch [27/100], Avg. Training Loss: 0.7133, Test MSE: 1.6048\n",
      "Epoch [28/100], Avg. Training Loss: 0.7178, Test MSE: 1.6112\n",
      "Epoch [29/100], Avg. Training Loss: 0.7254, Test MSE: 1.6436\n",
      "Epoch [30/100], Avg. Training Loss: 0.7245, Test MSE: 1.6208\n",
      "Epoch [31/100], Avg. Training Loss: 0.7139, Test MSE: 1.6360\n",
      "Epoch [32/100], Avg. Training Loss: 0.7158, Test MSE: 1.6332\n",
      "Epoch [33/100], Avg. Training Loss: 0.7132, Test MSE: 1.6064\n",
      "Epoch [34/100], Avg. Training Loss: 0.7129, Test MSE: 1.6525\n",
      "Epoch [35/100], Avg. Training Loss: 0.7160, Test MSE: 1.6071\n",
      "Epoch [36/100], Avg. Training Loss: 0.7179, Test MSE: 1.6189\n",
      "Epoch [37/100], Avg. Training Loss: 0.7144, Test MSE: 1.5911\n",
      "Epoch [38/100], Avg. Training Loss: 0.7163, Test MSE: 1.6297\n",
      "Epoch [39/100], Avg. Training Loss: 0.7148, Test MSE: 1.6350\n",
      "Epoch [40/100], Avg. Training Loss: 0.7141, Test MSE: 1.6201\n",
      "Epoch [41/100], Avg. Training Loss: 0.7167, Test MSE: 1.6203\n",
      "Epoch [42/100], Avg. Training Loss: 0.7148, Test MSE: 1.6171\n",
      "Epoch [43/100], Avg. Training Loss: 0.7143, Test MSE: 1.6368\n",
      "Epoch [44/100], Avg. Training Loss: 0.7132, Test MSE: 1.6103\n",
      "Epoch [45/100], Avg. Training Loss: 0.7169, Test MSE: 1.6068\n",
      "Epoch [46/100], Avg. Training Loss: 0.7147, Test MSE: 1.6405\n",
      "Epoch [47/100], Avg. Training Loss: 0.7172, Test MSE: 1.6205\n",
      "Epoch [48/100], Avg. Training Loss: 0.7118, Test MSE: 1.6066\n",
      "Epoch [49/100], Avg. Training Loss: 0.7118, Test MSE: 1.6501\n",
      "Epoch [50/100], Avg. Training Loss: 0.7289, Test MSE: 1.6326\n",
      "Epoch [51/100], Avg. Training Loss: 0.7161, Test MSE: 1.6228\n",
      "Epoch [52/100], Avg. Training Loss: 0.7142, Test MSE: 1.6118\n",
      "Epoch [53/100], Avg. Training Loss: 0.7152, Test MSE: 1.6249\n",
      "Epoch [54/100], Avg. Training Loss: 0.7139, Test MSE: 1.6380\n",
      "Epoch [55/100], Avg. Training Loss: 0.7171, Test MSE: 1.6466\n",
      "Epoch [56/100], Avg. Training Loss: 0.7244, Test MSE: 1.6388\n",
      "Epoch [57/100], Avg. Training Loss: 0.7166, Test MSE: 1.6203\n",
      "Epoch [58/100], Avg. Training Loss: 0.7131, Test MSE: 1.6182\n",
      "Epoch [59/100], Avg. Training Loss: 0.7161, Test MSE: 1.6345\n",
      "Epoch [60/100], Avg. Training Loss: 0.7149, Test MSE: 1.6373\n",
      "Epoch [61/100], Avg. Training Loss: 0.7172, Test MSE: 1.6009\n",
      "Epoch [62/100], Avg. Training Loss: 0.7228, Test MSE: 1.6162\n",
      "Epoch [63/100], Avg. Training Loss: 0.7194, Test MSE: 1.6272\n",
      "Epoch [64/100], Avg. Training Loss: 0.7129, Test MSE: 1.6335\n",
      "Epoch [65/100], Avg. Training Loss: 0.7192, Test MSE: 1.6162\n",
      "Epoch [66/100], Avg. Training Loss: 0.7162, Test MSE: 1.6203\n",
      "Epoch [67/100], Avg. Training Loss: 0.7145, Test MSE: 1.6111\n",
      "Epoch [68/100], Avg. Training Loss: 0.7197, Test MSE: 1.6383\n",
      "Epoch [69/100], Avg. Training Loss: 0.7189, Test MSE: 1.6613\n",
      "Epoch [70/100], Avg. Training Loss: 0.7196, Test MSE: 1.6318\n",
      "Epoch [71/100], Avg. Training Loss: 0.7135, Test MSE: 1.6201\n",
      "Epoch [72/100], Avg. Training Loss: 0.7139, Test MSE: 1.6233\n",
      "Epoch [73/100], Avg. Training Loss: 0.7135, Test MSE: 1.5854\n",
      "Epoch [74/100], Avg. Training Loss: 0.7134, Test MSE: 1.6168\n",
      "Epoch [75/100], Avg. Training Loss: 0.7224, Test MSE: 1.6308\n",
      "Epoch [76/100], Avg. Training Loss: 0.7118, Test MSE: 1.6096\n",
      "Epoch [77/100], Avg. Training Loss: 0.7164, Test MSE: 1.6373\n",
      "Epoch [78/100], Avg. Training Loss: 0.7318, Test MSE: 1.5934\n",
      "Epoch [79/100], Avg. Training Loss: 0.7166, Test MSE: 1.6062\n",
      "Epoch [80/100], Avg. Training Loss: 0.7140, Test MSE: 1.6551\n",
      "Epoch [81/100], Avg. Training Loss: 0.7157, Test MSE: 1.6530\n",
      "Epoch [82/100], Avg. Training Loss: 0.7175, Test MSE: 1.6258\n",
      "Epoch [83/100], Avg. Training Loss: 0.7231, Test MSE: 1.6407\n",
      "Epoch [84/100], Avg. Training Loss: 0.7140, Test MSE: 1.6456\n",
      "Epoch [85/100], Avg. Training Loss: 0.7135, Test MSE: 1.6438\n",
      "Epoch [86/100], Avg. Training Loss: 0.7199, Test MSE: 1.6559\n",
      "Epoch [87/100], Avg. Training Loss: 0.7229, Test MSE: 1.6130\n",
      "Epoch [88/100], Avg. Training Loss: 0.7143, Test MSE: 1.6134\n",
      "Epoch [89/100], Avg. Training Loss: 0.7151, Test MSE: 1.6064\n",
      "Epoch [90/100], Avg. Training Loss: 0.7136, Test MSE: 1.5980\n",
      "Epoch [91/100], Avg. Training Loss: 0.7156, Test MSE: 1.6602\n",
      "Epoch [92/100], Avg. Training Loss: 0.7154, Test MSE: 1.6121\n",
      "Epoch [93/100], Avg. Training Loss: 0.7139, Test MSE: 1.6118\n",
      "Epoch [94/100], Avg. Training Loss: 0.7168, Test MSE: 1.6192\n",
      "Epoch [95/100], Avg. Training Loss: 0.7217, Test MSE: 1.6073\n",
      "Epoch [96/100], Avg. Training Loss: 0.7124, Test MSE: 1.6349\n",
      "Epoch [97/100], Avg. Training Loss: 0.7165, Test MSE: 1.6093\n",
      "Epoch [98/100], Avg. Training Loss: 0.7161, Test MSE: 1.6280\n",
      "Epoch [99/100], Avg. Training Loss: 0.7124, Test MSE: 1.6419\n",
      "Epoch [100/100], Avg. Training Loss: 0.7151, Test MSE: 1.6123\n"
     ]
    }
   ],
   "source": [
    "# Training loop\n",
    "num_epochs = 100  # Number of training epochs\n",
    "for epoch in range(num_epochs):\n",
    "    total_loss = 0.0\n",
    "    total_samples = 0\n",
    "\n",
    "    for inputs, targets in train_dataloader:\n",
    "        optimizer2.zero_grad()\n",
    "        outputs = model2(inputs)\n",
    "        loss = criterion2(outputs, targets)\n",
    "        loss.backward()\n",
    "        optimizer2.step()\n",
    "\n",
    "        total_loss += loss.item() * len(inputs)\n",
    "        total_samples += len(inputs)\n",
    "\n",
    "    total_mse = 0.0\n",
    "    total_test_samples = 0\n",
    "    with torch.no_grad():  # Ensure no gradient computation during evaluation\n",
    "        for test_inputs, test_targets in test_dataloader:\n",
    "            test_outputs = model2(test_inputs)\n",
    "            total_mse += criterion2(test_outputs, test_targets) * len(test_inputs)\n",
    "            total_test_samples += len(test_inputs)\n",
    "    \n",
    "    mse = total_mse / total_test_samples\n",
    "    avg_loss = total_loss / total_samples\n",
    "    \n",
    "    # Print the training loss and test MSE at the end of each epoch\n",
    "    print(f'Epoch [{epoch + 1}/{num_epochs}], Avg. Training Loss: {avg_loss:.4f}, Test MSE: {mse.item():.4f}')"
   ]
  },
  {
   "cell_type": "code",
   "execution_count": 33,
   "id": "5b58e4d8",
   "metadata": {},
   "outputs": [],
   "source": [
    "#Incraese number of layers and number of epochs\n",
    "class RegressionModel3(nn.Module):\n",
    "    def __init__(self, input_size, hidden_size, output_size):\n",
    "        super(RegressionModel3, self).__init__()\n",
    "        self.fc1 = nn.Linear(input_size, hidden_size)\n",
    "        self.fc2 = nn.Linear(hidden_size, 64)\n",
    "        self.fc3  = nn.Linear(64,32)\n",
    "        self.relu = nn.ReLU()\n",
    "        self.fc4 = nn.Linear(32, output_size)\n",
    "\n",
    "    def forward(self, x):\n",
    "        x = self.fc1(x)\n",
    "        x = self.relu(x)\n",
    "        x= self.fc2(x)\n",
    "        x = self.relu(x)\n",
    "        x = self.fc3(x)\n",
    "        x = self.relu(x)\n",
    "        x = self.fc4(x)\n",
    "        return x"
   ]
  },
  {
   "cell_type": "code",
   "execution_count": 34,
   "id": "c96ded1d",
   "metadata": {},
   "outputs": [],
   "source": [
    "input_size = 6\n",
    "hidden_size = 32\n",
    "output_size = 1"
   ]
  },
  {
   "cell_type": "code",
   "execution_count": 35,
   "id": "b1b2e598",
   "metadata": {},
   "outputs": [],
   "source": [
    "model3 = RegressionModel3(input_size, hidden_size, output_size)"
   ]
  },
  {
   "cell_type": "code",
   "execution_count": 36,
   "id": "fc070b90",
   "metadata": {},
   "outputs": [],
   "source": [
    "criterion3 = nn.MSELoss()"
   ]
  },
  {
   "cell_type": "code",
   "execution_count": 37,
   "id": "6694610e",
   "metadata": {},
   "outputs": [],
   "source": [
    "optimizer3 = optim.SGD(model3.parameters(), lr=0.001)"
   ]
  },
  {
   "cell_type": "code",
   "execution_count": 38,
   "id": "4ebd1d9e",
   "metadata": {},
   "outputs": [
    {
     "name": "stdout",
     "output_type": "stream",
     "text": [
      "Epoch [1/200], Avg. Training Loss: 0.9130, Test MSE: 1.9126\n",
      "Epoch [2/200], Avg. Training Loss: 0.8195, Test MSE: 1.8088\n",
      "Epoch [3/200], Avg. Training Loss: 0.7949, Test MSE: 1.7691\n",
      "Epoch [4/200], Avg. Training Loss: 0.7777, Test MSE: 1.7441\n",
      "Epoch [5/200], Avg. Training Loss: 0.7817, Test MSE: 1.7280\n",
      "Epoch [6/200], Avg. Training Loss: 0.7726, Test MSE: 1.7235\n",
      "Epoch [7/200], Avg. Training Loss: 0.7676, Test MSE: 1.7225\n",
      "Epoch [8/200], Avg. Training Loss: 0.7806, Test MSE: 1.7225\n",
      "Epoch [9/200], Avg. Training Loss: 0.7680, Test MSE: 1.7186\n",
      "Epoch [10/200], Avg. Training Loss: 0.7694, Test MSE: 1.7150\n",
      "Epoch [11/200], Avg. Training Loss: 0.7751, Test MSE: 1.7140\n",
      "Epoch [12/200], Avg. Training Loss: 0.7750, Test MSE: 1.7121\n",
      "Epoch [13/200], Avg. Training Loss: 0.7572, Test MSE: 1.7093\n",
      "Epoch [14/200], Avg. Training Loss: 0.7648, Test MSE: 1.7051\n",
      "Epoch [15/200], Avg. Training Loss: 0.7611, Test MSE: 1.7035\n",
      "Epoch [16/200], Avg. Training Loss: 0.7698, Test MSE: 1.7071\n",
      "Epoch [17/200], Avg. Training Loss: 0.7831, Test MSE: 1.7046\n",
      "Epoch [18/200], Avg. Training Loss: 0.7605, Test MSE: 1.7010\n",
      "Epoch [19/200], Avg. Training Loss: 0.7670, Test MSE: 1.6999\n",
      "Epoch [20/200], Avg. Training Loss: 0.7496, Test MSE: 1.6966\n",
      "Epoch [21/200], Avg. Training Loss: 0.7612, Test MSE: 1.6990\n",
      "Epoch [22/200], Avg. Training Loss: 0.7606, Test MSE: 1.6942\n",
      "Epoch [23/200], Avg. Training Loss: 0.7576, Test MSE: 1.6911\n",
      "Epoch [24/200], Avg. Training Loss: 0.7560, Test MSE: 1.6943\n",
      "Epoch [25/200], Avg. Training Loss: 0.7537, Test MSE: 1.6900\n",
      "Epoch [26/200], Avg. Training Loss: 0.7524, Test MSE: 1.6865\n",
      "Epoch [27/200], Avg. Training Loss: 0.7441, Test MSE: 1.6867\n",
      "Epoch [28/200], Avg. Training Loss: 0.7493, Test MSE: 1.6835\n",
      "Epoch [29/200], Avg. Training Loss: 0.7512, Test MSE: 1.6818\n",
      "Epoch [30/200], Avg. Training Loss: 0.7446, Test MSE: 1.6818\n",
      "Epoch [31/200], Avg. Training Loss: 0.7451, Test MSE: 1.6817\n",
      "Epoch [32/200], Avg. Training Loss: 0.7477, Test MSE: 1.6854\n",
      "Epoch [33/200], Avg. Training Loss: 0.7474, Test MSE: 1.6797\n",
      "Epoch [34/200], Avg. Training Loss: 0.7513, Test MSE: 1.6802\n",
      "Epoch [35/200], Avg. Training Loss: 0.7437, Test MSE: 1.6802\n",
      "Epoch [36/200], Avg. Training Loss: 0.7456, Test MSE: 1.6815\n",
      "Epoch [37/200], Avg. Training Loss: 0.7433, Test MSE: 1.6773\n",
      "Epoch [38/200], Avg. Training Loss: 0.7486, Test MSE: 1.6793\n",
      "Epoch [39/200], Avg. Training Loss: 0.7389, Test MSE: 1.6758\n",
      "Epoch [40/200], Avg. Training Loss: 0.7428, Test MSE: 1.6779\n",
      "Epoch [41/200], Avg. Training Loss: 0.7420, Test MSE: 1.6748\n",
      "Epoch [42/200], Avg. Training Loss: 0.7472, Test MSE: 1.6744\n",
      "Epoch [43/200], Avg. Training Loss: 0.7407, Test MSE: 1.6727\n",
      "Epoch [44/200], Avg. Training Loss: 0.7428, Test MSE: 1.6719\n",
      "Epoch [45/200], Avg. Training Loss: 0.7452, Test MSE: 1.6698\n",
      "Epoch [46/200], Avg. Training Loss: 0.7463, Test MSE: 1.6725\n",
      "Epoch [47/200], Avg. Training Loss: 0.7315, Test MSE: 1.6682\n",
      "Epoch [48/200], Avg. Training Loss: 0.7379, Test MSE: 1.6691\n",
      "Epoch [49/200], Avg. Training Loss: 0.7399, Test MSE: 1.6684\n",
      "Epoch [50/200], Avg. Training Loss: 0.7367, Test MSE: 1.6656\n",
      "Epoch [51/200], Avg. Training Loss: 0.7366, Test MSE: 1.6639\n",
      "Epoch [52/200], Avg. Training Loss: 0.7431, Test MSE: 1.6631\n",
      "Epoch [53/200], Avg. Training Loss: 0.7455, Test MSE: 1.6683\n",
      "Epoch [54/200], Avg. Training Loss: 0.7376, Test MSE: 1.6675\n",
      "Epoch [55/200], Avg. Training Loss: 0.7423, Test MSE: 1.6700\n",
      "Epoch [56/200], Avg. Training Loss: 0.7337, Test MSE: 1.6630\n",
      "Epoch [57/200], Avg. Training Loss: 0.7334, Test MSE: 1.6580\n",
      "Epoch [58/200], Avg. Training Loss: 0.7340, Test MSE: 1.6564\n",
      "Epoch [59/200], Avg. Training Loss: 0.7322, Test MSE: 1.6567\n",
      "Epoch [60/200], Avg. Training Loss: 0.7398, Test MSE: 1.6595\n",
      "Epoch [61/200], Avg. Training Loss: 0.7324, Test MSE: 1.6599\n",
      "Epoch [62/200], Avg. Training Loss: 0.7404, Test MSE: 1.6582\n",
      "Epoch [63/200], Avg. Training Loss: 0.7336, Test MSE: 1.6570\n",
      "Epoch [64/200], Avg. Training Loss: 0.7362, Test MSE: 1.6540\n",
      "Epoch [65/200], Avg. Training Loss: 0.7286, Test MSE: 1.6518\n",
      "Epoch [66/200], Avg. Training Loss: 0.7311, Test MSE: 1.6534\n",
      "Epoch [67/200], Avg. Training Loss: 0.7341, Test MSE: 1.6522\n",
      "Epoch [68/200], Avg. Training Loss: 0.7354, Test MSE: 1.6558\n",
      "Epoch [69/200], Avg. Training Loss: 0.7388, Test MSE: 1.6567\n",
      "Epoch [70/200], Avg. Training Loss: 0.7290, Test MSE: 1.6544\n",
      "Epoch [71/200], Avg. Training Loss: 0.7346, Test MSE: 1.6566\n",
      "Epoch [72/200], Avg. Training Loss: 0.7361, Test MSE: 1.6532\n",
      "Epoch [73/200], Avg. Training Loss: 0.7337, Test MSE: 1.6544\n",
      "Epoch [74/200], Avg. Training Loss: 0.7282, Test MSE: 1.6534\n",
      "Epoch [75/200], Avg. Training Loss: 0.7258, Test MSE: 1.6479\n",
      "Epoch [76/200], Avg. Training Loss: 0.7315, Test MSE: 1.6482\n",
      "Epoch [77/200], Avg. Training Loss: 0.7337, Test MSE: 1.6530\n",
      "Epoch [78/200], Avg. Training Loss: 0.7317, Test MSE: 1.6492\n",
      "Epoch [79/200], Avg. Training Loss: 0.7298, Test MSE: 1.6459\n",
      "Epoch [80/200], Avg. Training Loss: 0.7306, Test MSE: 1.6478\n",
      "Epoch [81/200], Avg. Training Loss: 0.7319, Test MSE: 1.6482\n",
      "Epoch [82/200], Avg. Training Loss: 0.7329, Test MSE: 1.6406\n",
      "Epoch [83/200], Avg. Training Loss: 0.7260, Test MSE: 1.6437\n",
      "Epoch [84/200], Avg. Training Loss: 0.7314, Test MSE: 1.6457\n",
      "Epoch [85/200], Avg. Training Loss: 0.7247, Test MSE: 1.6439\n",
      "Epoch [86/200], Avg. Training Loss: 0.7303, Test MSE: 1.6481\n",
      "Epoch [87/200], Avg. Training Loss: 0.7373, Test MSE: 1.6479\n",
      "Epoch [88/200], Avg. Training Loss: 0.7334, Test MSE: 1.6482\n",
      "Epoch [89/200], Avg. Training Loss: 0.7295, Test MSE: 1.6455\n",
      "Epoch [90/200], Avg. Training Loss: 0.7292, Test MSE: 1.6457\n",
      "Epoch [91/200], Avg. Training Loss: 0.7245, Test MSE: 1.6451\n",
      "Epoch [92/200], Avg. Training Loss: 0.7350, Test MSE: 1.6491\n",
      "Epoch [93/200], Avg. Training Loss: 0.7333, Test MSE: 1.6518\n",
      "Epoch [94/200], Avg. Training Loss: 0.7245, Test MSE: 1.6466\n",
      "Epoch [95/200], Avg. Training Loss: 0.7233, Test MSE: 1.6481\n",
      "Epoch [96/200], Avg. Training Loss: 0.7257, Test MSE: 1.6447\n",
      "Epoch [97/200], Avg. Training Loss: 0.7282, Test MSE: 1.6419\n",
      "Epoch [98/200], Avg. Training Loss: 0.7331, Test MSE: 1.6437\n",
      "Epoch [99/200], Avg. Training Loss: 0.7242, Test MSE: 1.6392\n",
      "Epoch [100/200], Avg. Training Loss: 0.7220, Test MSE: 1.6415\n",
      "Epoch [101/200], Avg. Training Loss: 0.7252, Test MSE: 1.6448\n",
      "Epoch [102/200], Avg. Training Loss: 0.7251, Test MSE: 1.6446\n",
      "Epoch [103/200], Avg. Training Loss: 0.7259, Test MSE: 1.6442\n",
      "Epoch [104/200], Avg. Training Loss: 0.7296, Test MSE: 1.6453\n",
      "Epoch [105/200], Avg. Training Loss: 0.7245, Test MSE: 1.6359\n",
      "Epoch [106/200], Avg. Training Loss: 0.7264, Test MSE: 1.6422\n",
      "Epoch [107/200], Avg. Training Loss: 0.7267, Test MSE: 1.6474\n",
      "Epoch [108/200], Avg. Training Loss: 0.7244, Test MSE: 1.6464\n",
      "Epoch [109/200], Avg. Training Loss: 0.7271, Test MSE: 1.6441\n",
      "Epoch [110/200], Avg. Training Loss: 0.7248, Test MSE: 1.6418\n",
      "Epoch [111/200], Avg. Training Loss: 0.7289, Test MSE: 1.6397\n",
      "Epoch [112/200], Avg. Training Loss: 0.7309, Test MSE: 1.6428\n",
      "Epoch [113/200], Avg. Training Loss: 0.7208, Test MSE: 1.6410\n",
      "Epoch [114/200], Avg. Training Loss: 0.7252, Test MSE: 1.6403\n",
      "Epoch [115/200], Avg. Training Loss: 0.7231, Test MSE: 1.6427\n",
      "Epoch [116/200], Avg. Training Loss: 0.7259, Test MSE: 1.6407\n",
      "Epoch [117/200], Avg. Training Loss: 0.7210, Test MSE: 1.6379\n",
      "Epoch [118/200], Avg. Training Loss: 0.7239, Test MSE: 1.6389\n",
      "Epoch [119/200], Avg. Training Loss: 0.7268, Test MSE: 1.6370\n",
      "Epoch [120/200], Avg. Training Loss: 0.7245, Test MSE: 1.6390\n",
      "Epoch [121/200], Avg. Training Loss: 0.7283, Test MSE: 1.6387\n",
      "Epoch [122/200], Avg. Training Loss: 0.7241, Test MSE: 1.6407\n",
      "Epoch [123/200], Avg. Training Loss: 0.7220, Test MSE: 1.6385\n",
      "Epoch [124/200], Avg. Training Loss: 0.7246, Test MSE: 1.6414\n",
      "Epoch [125/200], Avg. Training Loss: 0.7218, Test MSE: 1.6410\n",
      "Epoch [126/200], Avg. Training Loss: 0.7245, Test MSE: 1.6399\n",
      "Epoch [127/200], Avg. Training Loss: 0.7211, Test MSE: 1.6398\n",
      "Epoch [128/200], Avg. Training Loss: 0.7234, Test MSE: 1.6392\n",
      "Epoch [129/200], Avg. Training Loss: 0.7251, Test MSE: 1.6358\n",
      "Epoch [130/200], Avg. Training Loss: 0.7217, Test MSE: 1.6391\n",
      "Epoch [131/200], Avg. Training Loss: 0.7227, Test MSE: 1.6354\n",
      "Epoch [132/200], Avg. Training Loss: 0.7276, Test MSE: 1.6413\n",
      "Epoch [133/200], Avg. Training Loss: 0.7235, Test MSE: 1.6375\n",
      "Epoch [134/200], Avg. Training Loss: 0.7240, Test MSE: 1.6342\n",
      "Epoch [135/200], Avg. Training Loss: 0.7209, Test MSE: 1.6342\n",
      "Epoch [136/200], Avg. Training Loss: 0.7218, Test MSE: 1.6350\n",
      "Epoch [137/200], Avg. Training Loss: 0.7220, Test MSE: 1.6332\n",
      "Epoch [138/200], Avg. Training Loss: 0.7251, Test MSE: 1.6295\n",
      "Epoch [139/200], Avg. Training Loss: 0.7233, Test MSE: 1.6403\n",
      "Epoch [140/200], Avg. Training Loss: 0.7182, Test MSE: 1.6354\n",
      "Epoch [141/200], Avg. Training Loss: 0.7226, Test MSE: 1.6290\n"
     ]
    },
    {
     "name": "stdout",
     "output_type": "stream",
     "text": [
      "Epoch [142/200], Avg. Training Loss: 0.7236, Test MSE: 1.6355\n",
      "Epoch [143/200], Avg. Training Loss: 0.7223, Test MSE: 1.6384\n",
      "Epoch [144/200], Avg. Training Loss: 0.7199, Test MSE: 1.6322\n",
      "Epoch [145/200], Avg. Training Loss: 0.7210, Test MSE: 1.6337\n",
      "Epoch [146/200], Avg. Training Loss: 0.7267, Test MSE: 1.6287\n",
      "Epoch [147/200], Avg. Training Loss: 0.7298, Test MSE: 1.6340\n",
      "Epoch [148/200], Avg. Training Loss: 0.7246, Test MSE: 1.6331\n",
      "Epoch [149/200], Avg. Training Loss: 0.7185, Test MSE: 1.6330\n",
      "Epoch [150/200], Avg. Training Loss: 0.7239, Test MSE: 1.6325\n",
      "Epoch [151/200], Avg. Training Loss: 0.7283, Test MSE: 1.6321\n",
      "Epoch [152/200], Avg. Training Loss: 0.7200, Test MSE: 1.6367\n",
      "Epoch [153/200], Avg. Training Loss: 0.7207, Test MSE: 1.6369\n",
      "Epoch [154/200], Avg. Training Loss: 0.7251, Test MSE: 1.6385\n",
      "Epoch [155/200], Avg. Training Loss: 0.7286, Test MSE: 1.6405\n",
      "Epoch [156/200], Avg. Training Loss: 0.7219, Test MSE: 1.6377\n",
      "Epoch [157/200], Avg. Training Loss: 0.7191, Test MSE: 1.6324\n",
      "Epoch [158/200], Avg. Training Loss: 0.7190, Test MSE: 1.6278\n",
      "Epoch [159/200], Avg. Training Loss: 0.7196, Test MSE: 1.6325\n",
      "Epoch [160/200], Avg. Training Loss: 0.7256, Test MSE: 1.6306\n",
      "Epoch [161/200], Avg. Training Loss: 0.7230, Test MSE: 1.6331\n",
      "Epoch [162/200], Avg. Training Loss: 0.7199, Test MSE: 1.6297\n",
      "Epoch [163/200], Avg. Training Loss: 0.7216, Test MSE: 1.6312\n",
      "Epoch [164/200], Avg. Training Loss: 0.7201, Test MSE: 1.6337\n",
      "Epoch [165/200], Avg. Training Loss: 0.7228, Test MSE: 1.6357\n",
      "Epoch [166/200], Avg. Training Loss: 0.7203, Test MSE: 1.6350\n",
      "Epoch [167/200], Avg. Training Loss: 0.7237, Test MSE: 1.6384\n",
      "Epoch [168/200], Avg. Training Loss: 0.7256, Test MSE: 1.6354\n",
      "Epoch [169/200], Avg. Training Loss: 0.7247, Test MSE: 1.6413\n",
      "Epoch [170/200], Avg. Training Loss: 0.7169, Test MSE: 1.6344\n",
      "Epoch [171/200], Avg. Training Loss: 0.7225, Test MSE: 1.6354\n",
      "Epoch [172/200], Avg. Training Loss: 0.7231, Test MSE: 1.6358\n",
      "Epoch [173/200], Avg. Training Loss: 0.7209, Test MSE: 1.6326\n",
      "Epoch [174/200], Avg. Training Loss: 0.7215, Test MSE: 1.6346\n",
      "Epoch [175/200], Avg. Training Loss: 0.7210, Test MSE: 1.6306\n",
      "Epoch [176/200], Avg. Training Loss: 0.7196, Test MSE: 1.6344\n",
      "Epoch [177/200], Avg. Training Loss: 0.7247, Test MSE: 1.6309\n",
      "Epoch [178/200], Avg. Training Loss: 0.7241, Test MSE: 1.6304\n",
      "Epoch [179/200], Avg. Training Loss: 0.7193, Test MSE: 1.6310\n",
      "Epoch [180/200], Avg. Training Loss: 0.7216, Test MSE: 1.6346\n",
      "Epoch [181/200], Avg. Training Loss: 0.7185, Test MSE: 1.6372\n",
      "Epoch [182/200], Avg. Training Loss: 0.7174, Test MSE: 1.6344\n",
      "Epoch [183/200], Avg. Training Loss: 0.7193, Test MSE: 1.6340\n",
      "Epoch [184/200], Avg. Training Loss: 0.7195, Test MSE: 1.6322\n",
      "Epoch [185/200], Avg. Training Loss: 0.7183, Test MSE: 1.6301\n",
      "Epoch [186/200], Avg. Training Loss: 0.7178, Test MSE: 1.6307\n",
      "Epoch [187/200], Avg. Training Loss: 0.7238, Test MSE: 1.6330\n",
      "Epoch [188/200], Avg. Training Loss: 0.7206, Test MSE: 1.6372\n",
      "Epoch [189/200], Avg. Training Loss: 0.7164, Test MSE: 1.6290\n",
      "Epoch [190/200], Avg. Training Loss: 0.7214, Test MSE: 1.6319\n",
      "Epoch [191/200], Avg. Training Loss: 0.7193, Test MSE: 1.6376\n",
      "Epoch [192/200], Avg. Training Loss: 0.7188, Test MSE: 1.6344\n",
      "Epoch [193/200], Avg. Training Loss: 0.7157, Test MSE: 1.6325\n",
      "Epoch [194/200], Avg. Training Loss: 0.7191, Test MSE: 1.6356\n",
      "Epoch [195/200], Avg. Training Loss: 0.7178, Test MSE: 1.6334\n",
      "Epoch [196/200], Avg. Training Loss: 0.7208, Test MSE: 1.6345\n",
      "Epoch [197/200], Avg. Training Loss: 0.7189, Test MSE: 1.6299\n",
      "Epoch [198/200], Avg. Training Loss: 0.7185, Test MSE: 1.6276\n",
      "Epoch [199/200], Avg. Training Loss: 0.7238, Test MSE: 1.6320\n",
      "Epoch [200/200], Avg. Training Loss: 0.7176, Test MSE: 1.6283\n"
     ]
    }
   ],
   "source": [
    "# Training loop\n",
    "num_epochs = 200  # Number of training epochs\n",
    "for epoch in range(num_epochs):\n",
    "    total_loss = 0.0\n",
    "    total_samples = 0\n",
    "\n",
    "    for inputs, targets in train_dataloader:\n",
    "        optimizer3.zero_grad()\n",
    "        outputs = model3(inputs)\n",
    "        loss = criterion3(outputs, targets)\n",
    "        loss.backward()\n",
    "        optimizer3.step()\n",
    "\n",
    "        total_loss += loss.item() * len(inputs)\n",
    "        total_samples += len(inputs)\n",
    "\n",
    "    # Calculate MSE on test data at the end of each epoch\n",
    "    total_mse = 0.0\n",
    "    total_test_samples = 0\n",
    "    with torch.no_grad():  # Ensure no gradient computation during evaluation\n",
    "        for test_inputs, test_targets in test_dataloader:\n",
    "            test_outputs = model3(test_inputs)\n",
    "            total_mse += criterion3(test_outputs, test_targets) * len(test_inputs)\n",
    "            total_test_samples += len(test_inputs)\n",
    "    \n",
    "    mse = total_mse / total_test_samples\n",
    "    avg_loss = total_loss / total_samples\n",
    "    \n",
    "    # Print the training loss and test MSE at the end of each epoch\n",
    "    print(f'Epoch [{epoch + 1}/{num_epochs}], Avg. Training Loss: {avg_loss:.4f}, Test MSE: {mse.item():.4f}')"
   ]
  },
  {
   "cell_type": "markdown",
   "id": "a05593e9",
   "metadata": {},
   "source": [
    "From the above code, the least MSE was given by the first model \n",
    " Avg. Training Loss: 0.7107, Test MSE: 1.6232"
   ]
  },
  {
   "cell_type": "markdown",
   "id": "d7c36d57",
   "metadata": {},
   "source": [
    "## Task 4 \n",
    "\n",
    "In this task, you will try to predict the number of crime victims as a **class number**. Therefore the machine learning problem is a **classification** problem. \n",
    "\n",
    "* Repeat all the steps in task 3. Specifically, pay attention to the differences with regression.\n",
    "* How would you find the number of classes on the output data?\n",
    "* How is the architecture different?\n",
    "* How is the loss function different?\n",
    "* Calculate the Accuracy for test data as the number of correct classified outputs divided by the total number of test data in each epoch. Report it at the end of each epoch\n",
    "* Try a few variations of learning rate, hidden dimensions, layers, etc. What is the best accuracy that you can get?"
   ]
  },
  {
   "cell_type": "markdown",
   "id": "aff17ca0",
   "metadata": {},
   "source": [
    "### Loss function:"
   ]
  },
  {
   "cell_type": "markdown",
   "id": "d9049a2c",
   "metadata": {},
   "source": [
    "The loss function that I am going to use for classication problem is Cross Entropy. Cross entropy is used for multi-class classification problem. It measures the performance of a classification model whose output is a probability value between 0 and 1."
   ]
  },
  {
   "cell_type": "markdown",
   "id": "2824953f",
   "metadata": {},
   "source": [
    "$$\n",
    "   L = \\sum_1  (y_0,c \\log (p_0,c))\n",
    "$$"
   ]
  },
  {
   "cell_type": "markdown",
   "id": "9ffa5365",
   "metadata": {},
   "source": [
    "### Size of predicted output"
   ]
  },
  {
   "cell_type": "code",
   "execution_count": 7,
   "id": "75744730",
   "metadata": {},
   "outputs": [
    {
     "data": {
      "text/plain": [
       "array([0, 1, 2, 3, 4, 5, 6], dtype=int64)"
      ]
     },
     "execution_count": 7,
     "metadata": {},
     "output_type": "execute_result"
    }
   ],
   "source": [
    "df['VictimCount'].unique()"
   ]
  },
  {
   "cell_type": "markdown",
   "id": "d7939fd2",
   "metadata": {},
   "source": [
    "Beacuse there are 7 unique values in Victim count there would be 7 different classes, therefore the output layer would be of size 7."
   ]
  },
  {
   "cell_type": "markdown",
   "id": "2ca7ad0b",
   "metadata": {},
   "source": [
    "### Architecture of the neural network"
   ]
  },
  {
   "cell_type": "raw",
   "id": "983e3849",
   "metadata": {},
   "source": [
    "The architecture of the neural network would be such that it takes in the 6 input features passes it through 3 hidden layers and gives output in 7 classes. The hidden layers would be of the size 6*128, 128*64, 64*32"
   ]
  },
  {
   "cell_type": "code",
   "execution_count": 39,
   "id": "6e13e633",
   "metadata": {},
   "outputs": [],
   "source": [
    "class ClassificationModel(nn.Module):\n",
    "    def __init__(self, input_size, hidden_sizes, num_classes):\n",
    "        super(ClassificationModel, self).__init__()\n",
    "        self.input_layer = nn.Linear(input_size, hidden_sizes[0])\n",
    "        self.hidden_layers = nn.ModuleList([\n",
    "            nn.Linear(hidden_sizes[i], hidden_sizes[i+1]) for i in range(len(hidden_sizes) - 1)\n",
    "        ])\n",
    "        self.output_layer = nn.Linear(hidden_sizes[-1], num_classes)\n",
    "        self.relu = nn.ReLU()\n",
    "    \n",
    "    def forward(self, x):\n",
    "        x = self.input_layer(x)\n",
    "        x = self.relu(x)\n",
    "        for layer in self.hidden_layers:\n",
    "            x = self.relu(layer(x))\n",
    "        x = self.output_layer(x)\n",
    "        return x"
   ]
  },
  {
   "cell_type": "code",
   "execution_count": 40,
   "id": "b1c0773e",
   "metadata": {},
   "outputs": [],
   "source": [
    "input_size = 6  \n",
    "hidden_sizes = [128, 64, 32]  \n",
    "num_classes = 7  "
   ]
  },
  {
   "cell_type": "code",
   "execution_count": 41,
   "id": "6db0b253",
   "metadata": {},
   "outputs": [],
   "source": [
    "classification_model = ClassificationModel(input_size, hidden_sizes, num_classes)"
   ]
  },
  {
   "cell_type": "code",
   "execution_count": 42,
   "id": "59d93466",
   "metadata": {},
   "outputs": [],
   "source": [
    "classification_criterion = nn.CrossEntropyLoss()"
   ]
  },
  {
   "cell_type": "markdown",
   "id": "988a6796",
   "metadata": {},
   "source": [
    "### Optimizer for the neural network"
   ]
  },
  {
   "cell_type": "markdown",
   "id": "6fa8a296",
   "metadata": {},
   "source": [
    "For the optimizer, I am using Stochastic Gradient Descent"
   ]
  },
  {
   "cell_type": "code",
   "execution_count": 43,
   "id": "fcfd0085",
   "metadata": {},
   "outputs": [],
   "source": [
    "classification_optimizer = optim.SGD(classification_model.parameters(), lr=0.01)"
   ]
  },
  {
   "cell_type": "code",
   "execution_count": 44,
   "id": "d9559e26",
   "metadata": {},
   "outputs": [],
   "source": [
    "# Checking the input such that all class values are an input to the training of the model"
   ]
  },
  {
   "cell_type": "code",
   "execution_count": 45,
   "id": "26c1ea16",
   "metadata": {},
   "outputs": [
    {
     "data": {
      "text/plain": [
       "VictimCount\n",
       "0    142\n",
       "1    100\n",
       "3     21\n",
       "2      9\n",
       "4      1\n",
       "5      1\n",
       "6      1\n",
       "Name: count, dtype: int64"
      ]
     },
     "execution_count": 45,
     "metadata": {},
     "output_type": "execute_result"
    }
   ],
   "source": [
    "class_counts = df['VictimCount'].value_counts();\n",
    "class_counts"
   ]
  },
  {
   "cell_type": "code",
   "execution_count": 71,
   "id": "fb89dc9c",
   "metadata": {},
   "outputs": [],
   "source": [
    "# Convert the data to PyTorch tensors\n",
    "input_tensor = torch.tensor(input_col, dtype=torch.float32)\n",
    "target_tensor = torch.tensor(target_col,dtype=torch.long)"
   ]
  },
  {
   "cell_type": "code",
   "execution_count": 48,
   "id": "ebd8dd73",
   "metadata": {},
   "outputs": [],
   "source": [
    "#Define batch size\n",
    "batch_size = 10"
   ]
  },
  {
   "cell_type": "code",
   "execution_count": 72,
   "id": "ba73d293",
   "metadata": {},
   "outputs": [],
   "source": [
    "# Create TensorDatasets for training and testing\n",
    "from torch.utils.data import TensorDataset, DataLoader\n",
    "train = TensorDataset(input_tensor[75:275], target_tensor[75:275])\n",
    "test = TensorDataset(input_tensor[0:75], target_tensor[0:75]) "
   ]
  },
  {
   "cell_type": "code",
   "execution_count": 73,
   "id": "6b7e3f6d",
   "metadata": {},
   "outputs": [],
   "source": [
    "# Create DataLoader objects\n",
    "train_dataloader = DataLoader(train, batch_size=batch_size, shuffle=False)\n",
    "test_dataloader = DataLoader(test, batch_size=batch_size, shuffle=False)"
   ]
  },
  {
   "cell_type": "markdown",
   "id": "743f4a89",
   "metadata": {},
   "source": [
    "### Training the neural network"
   ]
  },
  {
   "cell_type": "code",
   "execution_count": 53,
   "id": "1593c593",
   "metadata": {},
   "outputs": [
    {
     "name": "stdout",
     "output_type": "stream",
     "text": [
      "Epoch [1/100], Avg. Training Loss: 1.7489, Test Accuracy: 0.5067\n",
      "Epoch [2/100], Avg. Training Loss: 1.4121, Test Accuracy: 0.4800\n",
      "Epoch [3/100], Avg. Training Loss: 1.2861, Test Accuracy: 0.4400\n",
      "Epoch [4/100], Avg. Training Loss: 1.2471, Test Accuracy: 0.4267\n",
      "Epoch [5/100], Avg. Training Loss: 1.2257, Test Accuracy: 0.4267\n",
      "Epoch [6/100], Avg. Training Loss: 1.2131, Test Accuracy: 0.4133\n",
      "Epoch [7/100], Avg. Training Loss: 1.2024, Test Accuracy: 0.4267\n",
      "Epoch [8/100], Avg. Training Loss: 1.1966, Test Accuracy: 0.4400\n",
      "Epoch [9/100], Avg. Training Loss: 1.1890, Test Accuracy: 0.4400\n",
      "Epoch [10/100], Avg. Training Loss: 1.1854, Test Accuracy: 0.4400\n",
      "Epoch [11/100], Avg. Training Loss: 1.1810, Test Accuracy: 0.4400\n",
      "Epoch [12/100], Avg. Training Loss: 1.1754, Test Accuracy: 0.4400\n",
      "Epoch [13/100], Avg. Training Loss: 1.1728, Test Accuracy: 0.4533\n",
      "Epoch [14/100], Avg. Training Loss: 1.1691, Test Accuracy: 0.4800\n",
      "Epoch [15/100], Avg. Training Loss: 1.1658, Test Accuracy: 0.4800\n",
      "Epoch [16/100], Avg. Training Loss: 1.1619, Test Accuracy: 0.4800\n",
      "Epoch [17/100], Avg. Training Loss: 1.1605, Test Accuracy: 0.4800\n",
      "Epoch [18/100], Avg. Training Loss: 1.1583, Test Accuracy: 0.5067\n",
      "Epoch [19/100], Avg. Training Loss: 1.1559, Test Accuracy: 0.5067\n",
      "Epoch [20/100], Avg. Training Loss: 1.1539, Test Accuracy: 0.5200\n",
      "Epoch [21/100], Avg. Training Loss: 1.1529, Test Accuracy: 0.5067\n",
      "Epoch [22/100], Avg. Training Loss: 1.1500, Test Accuracy: 0.5067\n",
      "Epoch [23/100], Avg. Training Loss: 1.1505, Test Accuracy: 0.5200\n",
      "Epoch [24/100], Avg. Training Loss: 1.1475, Test Accuracy: 0.5200\n",
      "Epoch [25/100], Avg. Training Loss: 1.1452, Test Accuracy: 0.5200\n",
      "Epoch [26/100], Avg. Training Loss: 1.1467, Test Accuracy: 0.5200\n",
      "Epoch [27/100], Avg. Training Loss: 1.1448, Test Accuracy: 0.5200\n",
      "Epoch [28/100], Avg. Training Loss: 1.1422, Test Accuracy: 0.5200\n",
      "Epoch [29/100], Avg. Training Loss: 1.1421, Test Accuracy: 0.5200\n",
      "Epoch [30/100], Avg. Training Loss: 1.1410, Test Accuracy: 0.5200\n",
      "Epoch [31/100], Avg. Training Loss: 1.1394, Test Accuracy: 0.5200\n",
      "Epoch [32/100], Avg. Training Loss: 1.1388, Test Accuracy: 0.5200\n",
      "Epoch [33/100], Avg. Training Loss: 1.1371, Test Accuracy: 0.5200\n",
      "Epoch [34/100], Avg. Training Loss: 1.1364, Test Accuracy: 0.5200\n",
      "Epoch [35/100], Avg. Training Loss: 1.1350, Test Accuracy: 0.5200\n",
      "Epoch [36/100], Avg. Training Loss: 1.1348, Test Accuracy: 0.5200\n",
      "Epoch [37/100], Avg. Training Loss: 1.1325, Test Accuracy: 0.5200\n",
      "Epoch [38/100], Avg. Training Loss: 1.1323, Test Accuracy: 0.5200\n",
      "Epoch [39/100], Avg. Training Loss: 1.1315, Test Accuracy: 0.5200\n",
      "Epoch [40/100], Avg. Training Loss: 1.1302, Test Accuracy: 0.5200\n",
      "Epoch [41/100], Avg. Training Loss: 1.1293, Test Accuracy: 0.5200\n",
      "Epoch [42/100], Avg. Training Loss: 1.1288, Test Accuracy: 0.5200\n",
      "Epoch [43/100], Avg. Training Loss: 1.1281, Test Accuracy: 0.5200\n",
      "Epoch [44/100], Avg. Training Loss: 1.1268, Test Accuracy: 0.5200\n",
      "Epoch [45/100], Avg. Training Loss: 1.1257, Test Accuracy: 0.5200\n",
      "Epoch [46/100], Avg. Training Loss: 1.1251, Test Accuracy: 0.5200\n",
      "Epoch [47/100], Avg. Training Loss: 1.1240, Test Accuracy: 0.5200\n",
      "Epoch [48/100], Avg. Training Loss: 1.1240, Test Accuracy: 0.5200\n",
      "Epoch [49/100], Avg. Training Loss: 1.1225, Test Accuracy: 0.5200\n",
      "Epoch [50/100], Avg. Training Loss: 1.1219, Test Accuracy: 0.5200\n",
      "Epoch [51/100], Avg. Training Loss: 1.1209, Test Accuracy: 0.5200\n",
      "Epoch [52/100], Avg. Training Loss: 1.1208, Test Accuracy: 0.5200\n",
      "Epoch [53/100], Avg. Training Loss: 1.1193, Test Accuracy: 0.5200\n",
      "Epoch [54/100], Avg. Training Loss: 1.1192, Test Accuracy: 0.5200\n",
      "Epoch [55/100], Avg. Training Loss: 1.1195, Test Accuracy: 0.5200\n",
      "Epoch [56/100], Avg. Training Loss: 1.1181, Test Accuracy: 0.5200\n",
      "Epoch [57/100], Avg. Training Loss: 1.1172, Test Accuracy: 0.5200\n",
      "Epoch [58/100], Avg. Training Loss: 1.1167, Test Accuracy: 0.5200\n",
      "Epoch [59/100], Avg. Training Loss: 1.1159, Test Accuracy: 0.5200\n",
      "Epoch [60/100], Avg. Training Loss: 1.1147, Test Accuracy: 0.5200\n",
      "Epoch [61/100], Avg. Training Loss: 1.1153, Test Accuracy: 0.5200\n",
      "Epoch [62/100], Avg. Training Loss: 1.1141, Test Accuracy: 0.5200\n",
      "Epoch [63/100], Avg. Training Loss: 1.1135, Test Accuracy: 0.5200\n",
      "Epoch [64/100], Avg. Training Loss: 1.1128, Test Accuracy: 0.5200\n",
      "Epoch [65/100], Avg. Training Loss: 1.1127, Test Accuracy: 0.5200\n",
      "Epoch [66/100], Avg. Training Loss: 1.1118, Test Accuracy: 0.5200\n",
      "Epoch [67/100], Avg. Training Loss: 1.1117, Test Accuracy: 0.5200\n",
      "Epoch [68/100], Avg. Training Loss: 1.1102, Test Accuracy: 0.5200\n",
      "Epoch [69/100], Avg. Training Loss: 1.1095, Test Accuracy: 0.5200\n",
      "Epoch [70/100], Avg. Training Loss: 1.1105, Test Accuracy: 0.5200\n",
      "Epoch [71/100], Avg. Training Loss: 1.1094, Test Accuracy: 0.5200\n",
      "Epoch [72/100], Avg. Training Loss: 1.1085, Test Accuracy: 0.5200\n",
      "Epoch [73/100], Avg. Training Loss: 1.1072, Test Accuracy: 0.5200\n",
      "Epoch [74/100], Avg. Training Loss: 1.1077, Test Accuracy: 0.5200\n",
      "Epoch [75/100], Avg. Training Loss: 1.1074, Test Accuracy: 0.5200\n",
      "Epoch [76/100], Avg. Training Loss: 1.1061, Test Accuracy: 0.5200\n",
      "Epoch [77/100], Avg. Training Loss: 1.1065, Test Accuracy: 0.5200\n",
      "Epoch [78/100], Avg. Training Loss: 1.1051, Test Accuracy: 0.5200\n",
      "Epoch [79/100], Avg. Training Loss: 1.1038, Test Accuracy: 0.5200\n",
      "Epoch [80/100], Avg. Training Loss: 1.1033, Test Accuracy: 0.5200\n",
      "Epoch [81/100], Avg. Training Loss: 1.1032, Test Accuracy: 0.5200\n",
      "Epoch [82/100], Avg. Training Loss: 1.1023, Test Accuracy: 0.5200\n",
      "Epoch [83/100], Avg. Training Loss: 1.1019, Test Accuracy: 0.5200\n",
      "Epoch [84/100], Avg. Training Loss: 1.1016, Test Accuracy: 0.5200\n",
      "Epoch [85/100], Avg. Training Loss: 1.1012, Test Accuracy: 0.5200\n",
      "Epoch [86/100], Avg. Training Loss: 1.1001, Test Accuracy: 0.5200\n",
      "Epoch [87/100], Avg. Training Loss: 1.0991, Test Accuracy: 0.5200\n",
      "Epoch [88/100], Avg. Training Loss: 1.0993, Test Accuracy: 0.5200\n",
      "Epoch [89/100], Avg. Training Loss: 1.0984, Test Accuracy: 0.5200\n",
      "Epoch [90/100], Avg. Training Loss: 1.0974, Test Accuracy: 0.5200\n",
      "Epoch [91/100], Avg. Training Loss: 1.0974, Test Accuracy: 0.5200\n",
      "Epoch [92/100], Avg. Training Loss: 1.0959, Test Accuracy: 0.5200\n",
      "Epoch [93/100], Avg. Training Loss: 1.0963, Test Accuracy: 0.5200\n",
      "Epoch [94/100], Avg. Training Loss: 1.0953, Test Accuracy: 0.5200\n",
      "Epoch [95/100], Avg. Training Loss: 1.0952, Test Accuracy: 0.5200\n",
      "Epoch [96/100], Avg. Training Loss: 1.0947, Test Accuracy: 0.5200\n",
      "Epoch [97/100], Avg. Training Loss: 1.0927, Test Accuracy: 0.5200\n",
      "Epoch [98/100], Avg. Training Loss: 1.0933, Test Accuracy: 0.5200\n",
      "Epoch [99/100], Avg. Training Loss: 1.0911, Test Accuracy: 0.5200\n",
      "Epoch [100/100], Avg. Training Loss: 1.0914, Test Accuracy: 0.5200\n"
     ]
    }
   ],
   "source": [
    "num_epochs = 100  # Number of training epochs\n",
    "for epoch in range(num_epochs):\n",
    "    total_loss = 0.0\n",
    "    total_samples = 0\n",
    "\n",
    "    for inputs, targets in train_dataloader:\n",
    "        classification_optimizer.zero_grad()\n",
    "        outputs = classification_model(inputs)\n",
    "        loss = classification_criterion(outputs, targets)\n",
    "        loss.backward()\n",
    "        classification_optimizer.step()\n",
    "\n",
    "        total_loss += loss.item() * len(inputs)\n",
    "        total_samples += len(inputs)\n",
    "\n",
    "    # Calculate accuracy and print loss at the end of each epoch\n",
    "    total_correct = 0\n",
    "    total_test_samples = 0\n",
    "    with torch.no_grad():  # Ensure no gradient computation during evaluation\n",
    "        for test_inputs, test_targets in test_dataloader:\n",
    "            test_outputs = classification_model(test_inputs)\n",
    "            _, predicted = torch.max(test_outputs, 1)  # Get the class with the highest probability\n",
    "            total_correct += (predicted == test_targets).sum().item()\n",
    "            total_test_samples += len(test_inputs)\n",
    "    \n",
    "    accuracy = total_correct / total_test_samples\n",
    "    avg_loss = total_loss / total_samples\n",
    "    \n",
    "    # Print the training loss and accuracy at the end of each epoch\n",
    "    print(f'Epoch [{epoch + 1}/{num_epochs}], Avg. Training Loss: {avg_loss:.4f}, Test Accuracy: {accuracy:.4f}')\n"
   ]
  },
  {
   "cell_type": "code",
   "execution_count": 75,
   "id": "f75149b6",
   "metadata": {},
   "outputs": [],
   "source": [
    "class ClassificationModel2(nn.Module):\n",
    "    def __init__(self, input_size, output_size, hidden_size):\n",
    "        super(ClassificationModel2, self).__init__()  \n",
    "        self.fc1 = nn.Linear(input_size, hidden_size)\n",
    "        self.relu = nn.ReLU()\n",
    "        self.fc2 = nn.Linear(hidden_size, output_size)\n",
    "        self.softmax = nn.Softmax(dim=1)  \n",
    "        \n",
    "    def forward(self, x):\n",
    "        x = self.fc1(x)\n",
    "        x = self.relu(x)\n",
    "        x = self.fc2(x)\n",
    "        x = self.softmax(x)\n",
    "        return x\n"
   ]
  },
  {
   "cell_type": "code",
   "execution_count": 76,
   "id": "e2f08dfa",
   "metadata": {},
   "outputs": [],
   "source": [
    "input_size = 6  \n",
    "hidden_size = 128 \n",
    "output_size = 7  "
   ]
  },
  {
   "cell_type": "code",
   "execution_count": 77,
   "id": "31b19789",
   "metadata": {},
   "outputs": [],
   "source": [
    "classification_model2 = ClassificationModel2(input_size, output_size, hidden_size)"
   ]
  },
  {
   "cell_type": "code",
   "execution_count": 78,
   "id": "e281af38",
   "metadata": {},
   "outputs": [],
   "source": [
    "classification_criterion = nn.CrossEntropyLoss()\n",
    "classification_optimizer = optim.SGD(classification_model2.parameters(), lr=0.001)"
   ]
  },
  {
   "cell_type": "code",
   "execution_count": 79,
   "id": "52c01966",
   "metadata": {},
   "outputs": [
    {
     "name": "stdout",
     "output_type": "stream",
     "text": [
      "Epoch [1/100] - Avg. Training Loss: 1.0721\n",
      "Epoch [1/100], Avg. Training Loss: 1.0914, Test Accuracy: 0.5200\n",
      "Epoch [2/100] - Avg. Training Loss: 1.0721\n",
      "Epoch [2/100], Avg. Training Loss: 1.0914, Test Accuracy: 0.5200\n",
      "Epoch [3/100] - Avg. Training Loss: 1.0721\n",
      "Epoch [3/100], Avg. Training Loss: 1.0914, Test Accuracy: 0.5200\n",
      "Epoch [4/100] - Avg. Training Loss: 1.0721\n",
      "Epoch [4/100], Avg. Training Loss: 1.0914, Test Accuracy: 0.5200\n",
      "Epoch [5/100] - Avg. Training Loss: 1.0721\n",
      "Epoch [5/100], Avg. Training Loss: 1.0914, Test Accuracy: 0.5200\n",
      "Epoch [6/100] - Avg. Training Loss: 1.0721\n",
      "Epoch [6/100], Avg. Training Loss: 1.0914, Test Accuracy: 0.5200\n",
      "Epoch [7/100] - Avg. Training Loss: 1.0721\n",
      "Epoch [7/100], Avg. Training Loss: 1.0914, Test Accuracy: 0.5200\n",
      "Epoch [8/100] - Avg. Training Loss: 1.0721\n",
      "Epoch [8/100], Avg. Training Loss: 1.0914, Test Accuracy: 0.5200\n",
      "Epoch [9/100] - Avg. Training Loss: 1.0721\n",
      "Epoch [9/100], Avg. Training Loss: 1.0914, Test Accuracy: 0.5200\n",
      "Epoch [10/100] - Avg. Training Loss: 1.0721\n",
      "Epoch [10/100], Avg. Training Loss: 1.0914, Test Accuracy: 0.5200\n",
      "Epoch [11/100] - Avg. Training Loss: 1.0721\n",
      "Epoch [11/100], Avg. Training Loss: 1.0914, Test Accuracy: 0.5200\n",
      "Epoch [12/100] - Avg. Training Loss: 1.0721\n",
      "Epoch [12/100], Avg. Training Loss: 1.0914, Test Accuracy: 0.5200\n",
      "Epoch [13/100] - Avg. Training Loss: 1.0721\n",
      "Epoch [13/100], Avg. Training Loss: 1.0914, Test Accuracy: 0.5200\n",
      "Epoch [14/100] - Avg. Training Loss: 1.0721\n",
      "Epoch [14/100], Avg. Training Loss: 1.0914, Test Accuracy: 0.5200\n",
      "Epoch [15/100] - Avg. Training Loss: 1.0721\n",
      "Epoch [15/100], Avg. Training Loss: 1.0914, Test Accuracy: 0.5200\n",
      "Epoch [16/100] - Avg. Training Loss: 1.0721\n",
      "Epoch [16/100], Avg. Training Loss: 1.0914, Test Accuracy: 0.5200\n",
      "Epoch [17/100] - Avg. Training Loss: 1.0721\n",
      "Epoch [17/100], Avg. Training Loss: 1.0914, Test Accuracy: 0.5200\n",
      "Epoch [18/100] - Avg. Training Loss: 1.0721\n",
      "Epoch [18/100], Avg. Training Loss: 1.0914, Test Accuracy: 0.5200\n",
      "Epoch [19/100] - Avg. Training Loss: 1.0721\n",
      "Epoch [19/100], Avg. Training Loss: 1.0914, Test Accuracy: 0.5200\n",
      "Epoch [20/100] - Avg. Training Loss: 1.0721\n",
      "Epoch [20/100], Avg. Training Loss: 1.0914, Test Accuracy: 0.5200\n",
      "Epoch [21/100] - Avg. Training Loss: 1.0721\n",
      "Epoch [21/100], Avg. Training Loss: 1.0914, Test Accuracy: 0.5200\n",
      "Epoch [22/100] - Avg. Training Loss: 1.0721\n",
      "Epoch [22/100], Avg. Training Loss: 1.0914, Test Accuracy: 0.5200\n",
      "Epoch [23/100] - Avg. Training Loss: 1.0721\n",
      "Epoch [23/100], Avg. Training Loss: 1.0914, Test Accuracy: 0.5200\n",
      "Epoch [24/100] - Avg. Training Loss: 1.0721\n",
      "Epoch [24/100], Avg. Training Loss: 1.0914, Test Accuracy: 0.5200\n",
      "Epoch [25/100] - Avg. Training Loss: 1.0721\n",
      "Epoch [25/100], Avg. Training Loss: 1.0914, Test Accuracy: 0.5200\n",
      "Epoch [26/100] - Avg. Training Loss: 1.0721\n",
      "Epoch [26/100], Avg. Training Loss: 1.0914, Test Accuracy: 0.5200\n",
      "Epoch [27/100] - Avg. Training Loss: 1.0721\n",
      "Epoch [27/100], Avg. Training Loss: 1.0914, Test Accuracy: 0.5200\n",
      "Epoch [28/100] - Avg. Training Loss: 1.0721\n",
      "Epoch [28/100], Avg. Training Loss: 1.0914, Test Accuracy: 0.5200\n",
      "Epoch [29/100] - Avg. Training Loss: 1.0721\n",
      "Epoch [29/100], Avg. Training Loss: 1.0914, Test Accuracy: 0.5200\n",
      "Epoch [30/100] - Avg. Training Loss: 1.0721\n",
      "Epoch [30/100], Avg. Training Loss: 1.0914, Test Accuracy: 0.5200\n",
      "Epoch [31/100] - Avg. Training Loss: 1.0721\n",
      "Epoch [31/100], Avg. Training Loss: 1.0914, Test Accuracy: 0.5200\n",
      "Epoch [32/100] - Avg. Training Loss: 1.0721\n",
      "Epoch [32/100], Avg. Training Loss: 1.0914, Test Accuracy: 0.5200\n",
      "Epoch [33/100] - Avg. Training Loss: 1.0721\n",
      "Epoch [33/100], Avg. Training Loss: 1.0914, Test Accuracy: 0.5200\n",
      "Epoch [34/100] - Avg. Training Loss: 1.0721\n",
      "Epoch [34/100], Avg. Training Loss: 1.0914, Test Accuracy: 0.5200\n",
      "Epoch [35/100] - Avg. Training Loss: 1.0721\n",
      "Epoch [35/100], Avg. Training Loss: 1.0914, Test Accuracy: 0.5200\n",
      "Epoch [36/100] - Avg. Training Loss: 1.0721\n",
      "Epoch [36/100], Avg. Training Loss: 1.0914, Test Accuracy: 0.5200\n",
      "Epoch [37/100] - Avg. Training Loss: 1.0721\n",
      "Epoch [37/100], Avg. Training Loss: 1.0914, Test Accuracy: 0.5200\n",
      "Epoch [38/100] - Avg. Training Loss: 1.0721\n",
      "Epoch [38/100], Avg. Training Loss: 1.0914, Test Accuracy: 0.5200\n",
      "Epoch [39/100] - Avg. Training Loss: 1.0721\n",
      "Epoch [39/100], Avg. Training Loss: 1.0914, Test Accuracy: 0.5200\n",
      "Epoch [40/100] - Avg. Training Loss: 1.0721\n",
      "Epoch [40/100], Avg. Training Loss: 1.0914, Test Accuracy: 0.5200\n",
      "Epoch [41/100] - Avg. Training Loss: 1.0721\n",
      "Epoch [41/100], Avg. Training Loss: 1.0914, Test Accuracy: 0.5200\n",
      "Epoch [42/100] - Avg. Training Loss: 1.0721\n",
      "Epoch [42/100], Avg. Training Loss: 1.0914, Test Accuracy: 0.5200\n",
      "Epoch [43/100] - Avg. Training Loss: 1.0721\n",
      "Epoch [43/100], Avg. Training Loss: 1.0914, Test Accuracy: 0.5200\n",
      "Epoch [44/100] - Avg. Training Loss: 1.0721\n",
      "Epoch [44/100], Avg. Training Loss: 1.0914, Test Accuracy: 0.5200\n",
      "Epoch [45/100] - Avg. Training Loss: 1.0721\n",
      "Epoch [45/100], Avg. Training Loss: 1.0914, Test Accuracy: 0.5200\n",
      "Epoch [46/100] - Avg. Training Loss: 1.0721\n",
      "Epoch [46/100], Avg. Training Loss: 1.0914, Test Accuracy: 0.5200\n",
      "Epoch [47/100] - Avg. Training Loss: 1.0721\n",
      "Epoch [47/100], Avg. Training Loss: 1.0914, Test Accuracy: 0.5200\n",
      "Epoch [48/100] - Avg. Training Loss: 1.0721\n",
      "Epoch [48/100], Avg. Training Loss: 1.0914, Test Accuracy: 0.5200\n",
      "Epoch [49/100] - Avg. Training Loss: 1.0721\n",
      "Epoch [49/100], Avg. Training Loss: 1.0914, Test Accuracy: 0.5200\n",
      "Epoch [50/100] - Avg. Training Loss: 1.0721\n",
      "Epoch [50/100], Avg. Training Loss: 1.0914, Test Accuracy: 0.5200\n",
      "Epoch [51/100] - Avg. Training Loss: 1.0721\n",
      "Epoch [51/100], Avg. Training Loss: 1.0914, Test Accuracy: 0.5200\n",
      "Epoch [52/100] - Avg. Training Loss: 1.0721\n",
      "Epoch [52/100], Avg. Training Loss: 1.0914, Test Accuracy: 0.5200\n",
      "Epoch [53/100] - Avg. Training Loss: 1.0721\n",
      "Epoch [53/100], Avg. Training Loss: 1.0914, Test Accuracy: 0.5200\n",
      "Epoch [54/100] - Avg. Training Loss: 1.0721\n",
      "Epoch [54/100], Avg. Training Loss: 1.0914, Test Accuracy: 0.5200\n",
      "Epoch [55/100] - Avg. Training Loss: 1.0721\n",
      "Epoch [55/100], Avg. Training Loss: 1.0914, Test Accuracy: 0.5200\n",
      "Epoch [56/100] - Avg. Training Loss: 1.0721\n",
      "Epoch [56/100], Avg. Training Loss: 1.0914, Test Accuracy: 0.5200\n",
      "Epoch [57/100] - Avg. Training Loss: 1.0721\n",
      "Epoch [57/100], Avg. Training Loss: 1.0914, Test Accuracy: 0.5200\n",
      "Epoch [58/100] - Avg. Training Loss: 1.0721\n",
      "Epoch [58/100], Avg. Training Loss: 1.0914, Test Accuracy: 0.5200\n",
      "Epoch [59/100] - Avg. Training Loss: 1.0721\n",
      "Epoch [59/100], Avg. Training Loss: 1.0914, Test Accuracy: 0.5200\n",
      "Epoch [60/100] - Avg. Training Loss: 1.0721\n",
      "Epoch [60/100], Avg. Training Loss: 1.0914, Test Accuracy: 0.5200\n",
      "Epoch [61/100] - Avg. Training Loss: 1.0721\n",
      "Epoch [61/100], Avg. Training Loss: 1.0914, Test Accuracy: 0.5200\n",
      "Epoch [62/100] - Avg. Training Loss: 1.0721\n",
      "Epoch [62/100], Avg. Training Loss: 1.0914, Test Accuracy: 0.5200\n",
      "Epoch [63/100] - Avg. Training Loss: 1.0721\n",
      "Epoch [63/100], Avg. Training Loss: 1.0914, Test Accuracy: 0.5200\n",
      "Epoch [64/100] - Avg. Training Loss: 1.0721\n",
      "Epoch [64/100], Avg. Training Loss: 1.0914, Test Accuracy: 0.5200\n",
      "Epoch [65/100] - Avg. Training Loss: 1.0721\n",
      "Epoch [65/100], Avg. Training Loss: 1.0914, Test Accuracy: 0.5200\n",
      "Epoch [66/100] - Avg. Training Loss: 1.0721\n",
      "Epoch [66/100], Avg. Training Loss: 1.0914, Test Accuracy: 0.5200\n",
      "Epoch [67/100] - Avg. Training Loss: 1.0721\n",
      "Epoch [67/100], Avg. Training Loss: 1.0914, Test Accuracy: 0.5200\n",
      "Epoch [68/100] - Avg. Training Loss: 1.0721\n",
      "Epoch [68/100], Avg. Training Loss: 1.0914, Test Accuracy: 0.5200\n",
      "Epoch [69/100] - Avg. Training Loss: 1.0721\n",
      "Epoch [69/100], Avg. Training Loss: 1.0914, Test Accuracy: 0.5200\n",
      "Epoch [70/100] - Avg. Training Loss: 1.0721\n",
      "Epoch [70/100], Avg. Training Loss: 1.0914, Test Accuracy: 0.5200\n",
      "Epoch [71/100] - Avg. Training Loss: 1.0721\n",
      "Epoch [71/100], Avg. Training Loss: 1.0914, Test Accuracy: 0.5200\n",
      "Epoch [72/100] - Avg. Training Loss: 1.0721\n",
      "Epoch [72/100], Avg. Training Loss: 1.0914, Test Accuracy: 0.5200\n",
      "Epoch [73/100] - Avg. Training Loss: 1.0721\n",
      "Epoch [73/100], Avg. Training Loss: 1.0914, Test Accuracy: 0.5200\n",
      "Epoch [74/100] - Avg. Training Loss: 1.0721\n",
      "Epoch [74/100], Avg. Training Loss: 1.0914, Test Accuracy: 0.5200\n",
      "Epoch [75/100] - Avg. Training Loss: 1.0721\n",
      "Epoch [75/100], Avg. Training Loss: 1.0914, Test Accuracy: 0.5200\n",
      "Epoch [76/100] - Avg. Training Loss: 1.0721\n",
      "Epoch [76/100], Avg. Training Loss: 1.0914, Test Accuracy: 0.5200\n",
      "Epoch [77/100] - Avg. Training Loss: 1.0721\n",
      "Epoch [77/100], Avg. Training Loss: 1.0914, Test Accuracy: 0.5200\n",
      "Epoch [78/100] - Avg. Training Loss: 1.0721\n",
      "Epoch [78/100], Avg. Training Loss: 1.0914, Test Accuracy: 0.5200\n",
      "Epoch [79/100] - Avg. Training Loss: 1.0721\n",
      "Epoch [79/100], Avg. Training Loss: 1.0914, Test Accuracy: 0.5200\n"
     ]
    },
    {
     "name": "stdout",
     "output_type": "stream",
     "text": [
      "Epoch [80/100] - Avg. Training Loss: 1.0721\n",
      "Epoch [80/100], Avg. Training Loss: 1.0914, Test Accuracy: 0.5200\n",
      "Epoch [81/100] - Avg. Training Loss: 1.0721\n",
      "Epoch [81/100], Avg. Training Loss: 1.0914, Test Accuracy: 0.5200\n",
      "Epoch [82/100] - Avg. Training Loss: 1.0721\n",
      "Epoch [82/100], Avg. Training Loss: 1.0914, Test Accuracy: 0.5200\n",
      "Epoch [83/100] - Avg. Training Loss: 1.0721\n",
      "Epoch [83/100], Avg. Training Loss: 1.0914, Test Accuracy: 0.5200\n",
      "Epoch [84/100] - Avg. Training Loss: 1.0721\n",
      "Epoch [84/100], Avg. Training Loss: 1.0914, Test Accuracy: 0.5200\n",
      "Epoch [85/100] - Avg. Training Loss: 1.0721\n",
      "Epoch [85/100], Avg. Training Loss: 1.0914, Test Accuracy: 0.5200\n",
      "Epoch [86/100] - Avg. Training Loss: 1.0721\n",
      "Epoch [86/100], Avg. Training Loss: 1.0914, Test Accuracy: 0.5200\n",
      "Epoch [87/100] - Avg. Training Loss: 1.0721\n",
      "Epoch [87/100], Avg. Training Loss: 1.0914, Test Accuracy: 0.5200\n",
      "Epoch [88/100] - Avg. Training Loss: 1.0721\n",
      "Epoch [88/100], Avg. Training Loss: 1.0914, Test Accuracy: 0.5200\n",
      "Epoch [89/100] - Avg. Training Loss: 1.0721\n",
      "Epoch [89/100], Avg. Training Loss: 1.0914, Test Accuracy: 0.5200\n",
      "Epoch [90/100] - Avg. Training Loss: 1.0721\n",
      "Epoch [90/100], Avg. Training Loss: 1.0914, Test Accuracy: 0.5200\n",
      "Epoch [91/100] - Avg. Training Loss: 1.0721\n",
      "Epoch [91/100], Avg. Training Loss: 1.0914, Test Accuracy: 0.5200\n",
      "Epoch [92/100] - Avg. Training Loss: 1.0721\n",
      "Epoch [92/100], Avg. Training Loss: 1.0914, Test Accuracy: 0.5200\n",
      "Epoch [93/100] - Avg. Training Loss: 1.0721\n",
      "Epoch [93/100], Avg. Training Loss: 1.0914, Test Accuracy: 0.5200\n",
      "Epoch [94/100] - Avg. Training Loss: 1.0721\n",
      "Epoch [94/100], Avg. Training Loss: 1.0914, Test Accuracy: 0.5200\n",
      "Epoch [95/100] - Avg. Training Loss: 1.0721\n",
      "Epoch [95/100], Avg. Training Loss: 1.0914, Test Accuracy: 0.5200\n",
      "Epoch [96/100] - Avg. Training Loss: 1.0721\n",
      "Epoch [96/100], Avg. Training Loss: 1.0914, Test Accuracy: 0.5200\n",
      "Epoch [97/100] - Avg. Training Loss: 1.0721\n",
      "Epoch [97/100], Avg. Training Loss: 1.0914, Test Accuracy: 0.5200\n",
      "Epoch [98/100] - Avg. Training Loss: 1.0721\n",
      "Epoch [98/100], Avg. Training Loss: 1.0914, Test Accuracy: 0.5200\n",
      "Epoch [99/100] - Avg. Training Loss: 1.0721\n",
      "Epoch [99/100], Avg. Training Loss: 1.0914, Test Accuracy: 0.5200\n",
      "Epoch [100/100] - Avg. Training Loss: 1.0721\n",
      "Epoch [100/100], Avg. Training Loss: 1.0914, Test Accuracy: 0.5200\n"
     ]
    }
   ],
   "source": [
    "# Set the number of training epochs\n",
    "num_epochs = 100\n",
    "\n",
    "# Initialize a list to store test accuracies\n",
    "test_accuracies = []\n",
    "\n",
    "# Training loop\n",
    "for epoch in range(num_epochs):\n",
    "    # Training\n",
    "    classification_model.train()\n",
    "    total_loss = 0.0\n",
    "    for inputs, targets in train_dataloader:\n",
    "        classification_optimizer.zero_grad()  # Zero the parameter gradients\n",
    "        outputs = classification_model(inputs)  # Forward pass\n",
    "        loss = classification_criterion(outputs, targets)  # Calculate the loss\n",
    "        loss.backward()  # Backpropagation\n",
    "        classification_optimizer.step()  # Update weights\n",
    "        total_loss += loss.item()\n",
    "\n",
    "    # Calculate and print the average training loss for this epoch\n",
    "    avg_train_loss = total_loss / len(train_dataloader)\n",
    "    print(f\"Epoch [{epoch+1}/{num_epochs}] - Avg. Training Loss: {avg_train_loss:.4f}\")\n",
    "\n",
    "    # Testing\n",
    "    classification_model.eval()\n",
    "    correct = 0\n",
    "    total = 0\n",
    "    with torch.no_grad():\n",
    "        for inputs, targets in test_dataloader:\n",
    "            outputs = classification_model(inputs)\n",
    "            _, predicted = torch.max(outputs, 1)\n",
    "            total += targets.size(0)\n",
    "            correct += (predicted == targets).sum().item()\n",
    "\n",
    "    # Calculate and store the test accuracy for this epoch\n",
    "    test_accuracy = 100 * correct / total\n",
    "    test_accuracies.append(test_accuracy)\n",
    "    \n",
    "    print(f'Epoch [{epoch + 1}/{num_epochs}], Avg. Training Loss: {avg_loss:.4f}, Test Accuracy: {accuracy:.4f}')\n",
    "\n",
    "# Calculate and print the average test accuracy over all epochs\n",
    "avg_test_accuracy = sum(test_accuracies) / len(test_accuracies)\n",
    "\n"
   ]
  },
  {
   "cell_type": "markdown",
   "id": "3d4a98a9",
   "metadata": {},
   "source": [
    "The best accuracy I am getting is 52%"
   ]
  },
  {
   "cell_type": "markdown",
   "id": "29aef98a",
   "metadata": {},
   "source": [
    "## Task 5"
   ]
  },
  {
   "cell_type": "markdown",
   "id": "08a394d9",
   "metadata": {},
   "source": [
    "### Reflect on your results\n",
    "\n",
    "* Write a paragraph about your experience with tasks 3 and 4. How do you compare the results? Which one worked better? Why?\n",
    "* Write a piece of code that finds an example of a  miss-classification. Calculate the probabilities for the output classes and plot them in a bar chart. Also, indicate what is the correct class label."
   ]
  },
  {
   "cell_type": "markdown",
   "id": "f551c8ee",
   "metadata": {},
   "source": [
    "The regression model produced output as a single value. It gives the victim count according to the input labels provided to it. On the other hand, the classification model gave output in the form of probability for the classes of the Victim count. Therefore the output size of the Classification model was the size of the number of classes which was 7 as the Victim count ranged from 0-6. \n",
    "\n",
    "The classification model performed better than regression model. This could be because the target values in the dataset had discrete values. Therefore this was more suitable for classification type of problem. Also, the data was imbalanced so classification might have performed than regression in predicting the output."
   ]
  },
  {
   "cell_type": "code",
   "execution_count": 83,
   "id": "41f9611c",
   "metadata": {},
   "outputs": [
    {
     "data": {
      "text/plain": [
       "(tensor([0.6235, 0.5762, 2.0000, 1.0000, 2.0000, 0.0000]), 1, 0)"
      ]
     },
     "execution_count": 83,
     "metadata": {},
     "output_type": "execute_result"
    }
   ],
   "source": [
    "misclassified_examples = []\n",
    "\n",
    "for inputs, targets in test_dataloader:\n",
    "    outputs = model(inputs)\n",
    "    _, predicted = torch.max(outputs, 1) \n",
    "    for i in range(len(targets)):\n",
    "        true_label = targets[i].item()\n",
    "        predicted_label = predicted[i].item()\n",
    "\n",
    "        if true_label != predicted_label:\n",
    "            misclassified_examples.append((inputs[i], true_label, predicted_label))\n",
    "\n",
    "\n",
    "misclassified_examples[0]"
   ]
  },
  {
   "cell_type": "markdown",
   "id": "63479cb4",
   "metadata": {},
   "source": [
    "For the above example the true label was 1 but was incorrectly predicted as 0."
   ]
  },
  {
   "cell_type": "code",
   "execution_count": 85,
   "id": "77b3fc2b",
   "metadata": {},
   "outputs": [
    {
     "name": "stdout",
     "output_type": "stream",
     "text": [
      "Epoch [1/100], Avg. Training Loss: 1.0721, Test Accuracy: 0.5200\n",
      "Epoch [2/100], Avg. Training Loss: 1.0721, Test Accuracy: 0.5200\n",
      "Epoch [3/100], Avg. Training Loss: 1.0721, Test Accuracy: 0.5200\n",
      "Epoch [4/100], Avg. Training Loss: 1.0721, Test Accuracy: 0.5200\n",
      "Epoch [5/100], Avg. Training Loss: 1.0721, Test Accuracy: 0.5200\n",
      "Epoch [6/100], Avg. Training Loss: 1.0721, Test Accuracy: 0.5200\n",
      "Epoch [7/100], Avg. Training Loss: 1.0721, Test Accuracy: 0.5200\n",
      "Epoch [8/100], Avg. Training Loss: 1.0721, Test Accuracy: 0.5200\n",
      "Epoch [9/100], Avg. Training Loss: 1.0721, Test Accuracy: 0.5200\n",
      "Epoch [10/100], Avg. Training Loss: 1.0721, Test Accuracy: 0.5200\n",
      "Epoch [11/100], Avg. Training Loss: 1.0721, Test Accuracy: 0.5200\n",
      "Epoch [12/100], Avg. Training Loss: 1.0721, Test Accuracy: 0.5200\n",
      "Epoch [13/100], Avg. Training Loss: 1.0721, Test Accuracy: 0.5200\n",
      "Epoch [14/100], Avg. Training Loss: 1.0721, Test Accuracy: 0.5200\n",
      "Epoch [15/100], Avg. Training Loss: 1.0721, Test Accuracy: 0.5200\n",
      "Epoch [16/100], Avg. Training Loss: 1.0721, Test Accuracy: 0.5200\n",
      "Epoch [17/100], Avg. Training Loss: 1.0721, Test Accuracy: 0.5200\n",
      "Epoch [18/100], Avg. Training Loss: 1.0721, Test Accuracy: 0.5200\n",
      "Epoch [19/100], Avg. Training Loss: 1.0721, Test Accuracy: 0.5200\n",
      "Epoch [20/100], Avg. Training Loss: 1.0721, Test Accuracy: 0.5200\n",
      "Epoch [21/100], Avg. Training Loss: 1.0721, Test Accuracy: 0.5200\n",
      "Epoch [22/100], Avg. Training Loss: 1.0721, Test Accuracy: 0.5200\n",
      "Epoch [23/100], Avg. Training Loss: 1.0721, Test Accuracy: 0.5200\n",
      "Epoch [24/100], Avg. Training Loss: 1.0721, Test Accuracy: 0.5200\n",
      "Epoch [25/100], Avg. Training Loss: 1.0721, Test Accuracy: 0.5200\n",
      "Epoch [26/100], Avg. Training Loss: 1.0721, Test Accuracy: 0.5200\n",
      "Epoch [27/100], Avg. Training Loss: 1.0721, Test Accuracy: 0.5200\n",
      "Epoch [28/100], Avg. Training Loss: 1.0721, Test Accuracy: 0.5200\n",
      "Epoch [29/100], Avg. Training Loss: 1.0721, Test Accuracy: 0.5200\n",
      "Epoch [30/100], Avg. Training Loss: 1.0721, Test Accuracy: 0.5200\n",
      "Epoch [31/100], Avg. Training Loss: 1.0721, Test Accuracy: 0.5200\n",
      "Epoch [32/100], Avg. Training Loss: 1.0721, Test Accuracy: 0.5200\n",
      "Epoch [33/100], Avg. Training Loss: 1.0721, Test Accuracy: 0.5200\n",
      "Epoch [34/100], Avg. Training Loss: 1.0721, Test Accuracy: 0.5200\n",
      "Epoch [35/100], Avg. Training Loss: 1.0721, Test Accuracy: 0.5200\n",
      "Epoch [36/100], Avg. Training Loss: 1.0721, Test Accuracy: 0.5200\n",
      "Epoch [37/100], Avg. Training Loss: 1.0721, Test Accuracy: 0.5200\n",
      "Epoch [38/100], Avg. Training Loss: 1.0721, Test Accuracy: 0.5200\n",
      "Epoch [39/100], Avg. Training Loss: 1.0721, Test Accuracy: 0.5200\n",
      "Epoch [40/100], Avg. Training Loss: 1.0721, Test Accuracy: 0.5200\n",
      "Epoch [41/100], Avg. Training Loss: 1.0721, Test Accuracy: 0.5200\n",
      "Epoch [42/100], Avg. Training Loss: 1.0721, Test Accuracy: 0.5200\n",
      "Epoch [43/100], Avg. Training Loss: 1.0721, Test Accuracy: 0.5200\n",
      "Epoch [44/100], Avg. Training Loss: 1.0721, Test Accuracy: 0.5200\n",
      "Epoch [45/100], Avg. Training Loss: 1.0721, Test Accuracy: 0.5200\n",
      "Epoch [46/100], Avg. Training Loss: 1.0721, Test Accuracy: 0.5200\n",
      "Epoch [47/100], Avg. Training Loss: 1.0721, Test Accuracy: 0.5200\n",
      "Epoch [48/100], Avg. Training Loss: 1.0721, Test Accuracy: 0.5200\n",
      "Epoch [49/100], Avg. Training Loss: 1.0721, Test Accuracy: 0.5200\n",
      "Epoch [50/100], Avg. Training Loss: 1.0721, Test Accuracy: 0.5200\n",
      "Epoch [51/100], Avg. Training Loss: 1.0721, Test Accuracy: 0.5200\n",
      "Epoch [52/100], Avg. Training Loss: 1.0721, Test Accuracy: 0.5200\n",
      "Epoch [53/100], Avg. Training Loss: 1.0721, Test Accuracy: 0.5200\n",
      "Epoch [54/100], Avg. Training Loss: 1.0721, Test Accuracy: 0.5200\n",
      "Epoch [55/100], Avg. Training Loss: 1.0721, Test Accuracy: 0.5200\n",
      "Epoch [56/100], Avg. Training Loss: 1.0721, Test Accuracy: 0.5200\n",
      "Epoch [57/100], Avg. Training Loss: 1.0721, Test Accuracy: 0.5200\n",
      "Epoch [58/100], Avg. Training Loss: 1.0721, Test Accuracy: 0.5200\n",
      "Epoch [59/100], Avg. Training Loss: 1.0721, Test Accuracy: 0.5200\n",
      "Epoch [60/100], Avg. Training Loss: 1.0721, Test Accuracy: 0.5200\n",
      "Epoch [61/100], Avg. Training Loss: 1.0721, Test Accuracy: 0.5200\n",
      "Epoch [62/100], Avg. Training Loss: 1.0721, Test Accuracy: 0.5200\n",
      "Epoch [63/100], Avg. Training Loss: 1.0721, Test Accuracy: 0.5200\n",
      "Epoch [64/100], Avg. Training Loss: 1.0721, Test Accuracy: 0.5200\n",
      "Epoch [65/100], Avg. Training Loss: 1.0721, Test Accuracy: 0.5200\n",
      "Epoch [66/100], Avg. Training Loss: 1.0721, Test Accuracy: 0.5200\n",
      "Epoch [67/100], Avg. Training Loss: 1.0721, Test Accuracy: 0.5200\n",
      "Epoch [68/100], Avg. Training Loss: 1.0721, Test Accuracy: 0.5200\n",
      "Epoch [69/100], Avg. Training Loss: 1.0721, Test Accuracy: 0.5200\n",
      "Epoch [70/100], Avg. Training Loss: 1.0721, Test Accuracy: 0.5200\n",
      "Epoch [71/100], Avg. Training Loss: 1.0721, Test Accuracy: 0.5200\n",
      "Epoch [72/100], Avg. Training Loss: 1.0721, Test Accuracy: 0.5200\n",
      "Epoch [73/100], Avg. Training Loss: 1.0721, Test Accuracy: 0.5200\n",
      "Epoch [74/100], Avg. Training Loss: 1.0721, Test Accuracy: 0.5200\n",
      "Epoch [75/100], Avg. Training Loss: 1.0721, Test Accuracy: 0.5200\n",
      "Epoch [76/100], Avg. Training Loss: 1.0721, Test Accuracy: 0.5200\n",
      "Epoch [77/100], Avg. Training Loss: 1.0721, Test Accuracy: 0.5200\n",
      "Epoch [78/100], Avg. Training Loss: 1.0721, Test Accuracy: 0.5200\n",
      "Epoch [79/100], Avg. Training Loss: 1.0721, Test Accuracy: 0.5200\n",
      "Epoch [80/100], Avg. Training Loss: 1.0721, Test Accuracy: 0.5200\n",
      "Epoch [81/100], Avg. Training Loss: 1.0721, Test Accuracy: 0.5200\n",
      "Epoch [82/100], Avg. Training Loss: 1.0721, Test Accuracy: 0.5200\n",
      "Epoch [83/100], Avg. Training Loss: 1.0721, Test Accuracy: 0.5200\n",
      "Epoch [84/100], Avg. Training Loss: 1.0721, Test Accuracy: 0.5200\n",
      "Epoch [85/100], Avg. Training Loss: 1.0721, Test Accuracy: 0.5200\n",
      "Epoch [86/100], Avg. Training Loss: 1.0721, Test Accuracy: 0.5200\n",
      "Epoch [87/100], Avg. Training Loss: 1.0721, Test Accuracy: 0.5200\n",
      "Epoch [88/100], Avg. Training Loss: 1.0721, Test Accuracy: 0.5200\n",
      "Epoch [89/100], Avg. Training Loss: 1.0721, Test Accuracy: 0.5200\n",
      "Epoch [90/100], Avg. Training Loss: 1.0721, Test Accuracy: 0.5200\n",
      "Epoch [91/100], Avg. Training Loss: 1.0721, Test Accuracy: 0.5200\n",
      "Epoch [92/100], Avg. Training Loss: 1.0721, Test Accuracy: 0.5200\n",
      "Epoch [93/100], Avg. Training Loss: 1.0721, Test Accuracy: 0.5200\n",
      "Epoch [94/100], Avg. Training Loss: 1.0721, Test Accuracy: 0.5200\n",
      "Epoch [95/100], Avg. Training Loss: 1.0721, Test Accuracy: 0.5200\n",
      "Epoch [96/100], Avg. Training Loss: 1.0721, Test Accuracy: 0.5200\n",
      "Epoch [97/100], Avg. Training Loss: 1.0721, Test Accuracy: 0.5200\n",
      "Epoch [98/100], Avg. Training Loss: 1.0721, Test Accuracy: 0.5200\n",
      "Epoch [99/100], Avg. Training Loss: 1.0721, Test Accuracy: 0.5200\n",
      "Epoch [100/100], Avg. Training Loss: 1.0721, Test Accuracy: 0.5200\n"
     ]
    },
    {
     "data": {
      "image/png": "[encoded data removed]",
      "text/plain": [
       "<Figure size 800x600 with 1 Axes>"
      ]
     },
     "metadata": {},
     "output_type": "display_data"
    }
   ],
   "source": [
    "# Lists to store predictions and true labels\n",
    "all_predictions = []\n",
    "all_true_labels = []\n",
    "\n",
    "# Number of classes\n",
    "num_classes = 7\n",
    "\n",
    "# Training loop\n",
    "num_epochs = 100  \n",
    "for epoch in range(num_epochs):\n",
    "    total_loss = 0.0\n",
    "    total_samples = 0\n",
    "\n",
    "    for inputs, targets in train_dataloader:\n",
    "        classification_optimizer.zero_grad()\n",
    "        outputs = classification_model(inputs)\n",
    "        loss = classification_criterion(outputs, targets)\n",
    "        loss.backward()\n",
    "        classification_optimizer.step()\n",
    "\n",
    "        total_loss += loss.item() * len(inputs)\n",
    "        total_samples += len(inputs)\n",
    "\n",
    "    # Calculate accuracy and collect predictions and true labels at the end of each epoch\n",
    "    total_correct = 0\n",
    "    total_test_samples = 0\n",
    "    with torch.no_grad():  # Ensure no gradient computation during evaluation\n",
    "        for test_inputs, test_targets in test_dataloader:\n",
    "            test_outputs = classification_model(test_inputs)\n",
    "            _, predicted = torch.max(test_outputs, 1)  # Get the class with the highest probability\n",
    "            total_correct += (predicted == test_targets).sum().item()\n",
    "            total_test_samples += len(test_inputs)\n",
    "\n",
    "            # Collect predictions and true labels\n",
    "            all_predictions.extend(predicted.tolist())\n",
    "            all_true_labels.extend(test_targets.tolist())\n",
    "\n",
    "    accuracy = total_correct / total_test_samples\n",
    "    avg_loss = total_loss / total_samples\n",
    "    \n",
    "    # Print the training loss and accuracy at the end of each epoch\n",
    "    print(f'Epoch [{epoch + 1}/{num_epochs}], Avg. Training Loss: {avg_loss:.4f}, Test Accuracy: {accuracy:.4f}')\n",
    "\n",
    "# Plot a bar chart for class predictions with true labels\n",
    "class_counts = [all_predictions.count(i) for i in range(num_classes)]\n",
    "class_labels = [f'Class {i}' for i in range(num_classes)]\n",
    "true_labels = [f'True Label {i}' for i in range(num_classes)]\n",
    "\n",
    "x = np.arange(num_classes) \n",
    "\n",
    "plt.figure(figsize=(8, 6))\n",
    "plt.bar(x - 0.2, class_counts, width=0.4, label='Predictions')\n",
    "plt.bar(x + 0.2, [all_true_labels.count(i) for i in range(num_classes)], width=0.4, label='True Labels')\n",
    "plt.xticks(x, class_labels)\n",
    "plt.xlabel('Class')\n",
    "plt.ylabel('Count')\n",
    "plt.title('Class Predictions with True Labels')\n",
    "plt.legend()\n",
    "plt.show()\n"
   ]
  },
  {
   "cell_type": "markdown",
   "id": "c1546fa9",
   "metadata": {},
   "source": [
    "## Task 6: Exploring the patterns in raw data\n",
    "\n",
    "* Plot the crime incidents as a `scatter` plot using the corrdinates. Use the color property of each datapoint to indicate the day of the week. Is there a pattern in the plot?\n",
    "* Now make a new scatter plot and use the color property of each datapoint to indicate the number of persons involved in the incident. Is there a pattern here?\n",
    "* use numpy (or pandas if you like) to sort the number of crimes reported by the day of the week. What days are most frequent?\n"
   ]
  },
  {
   "cell_type": "code",
   "execution_count": 87,
   "id": "328ecf40",
   "metadata": {},
   "outputs": [
    {
     "data": {
      "image/png": "[encoded data removed]",
      "text/plain": [
       "<Figure size 800x600 with 1 Axes>"
      ]
     },
     "metadata": {},
     "output_type": "display_data"
    }
   ],
   "source": [
    "#Different colors for days of the week\n",
    "colors = ['b', 'g', 'r', 'c', 'm', 'y', 'k']\n",
    "\n",
    "# Create a scatter plot\n",
    "plt.figure(figsize=(8, 6))\n",
    "for day, color in enumerate(colors):\n",
    "    day_data = df[df['DayOfWeek'] == day]\n",
    "    plt.scatter(day_data['X'], day_data['Y'], c=color, label=f'Day {day}')\n",
    "\n",
    "plt.xlabel('X Coordinate')\n",
    "plt.ylabel('Y Coordinate')\n",
    "plt.title('Crime Incidents Scatter Plot by Day of the Week')\n",
    "plt.legend()\n",
    "plt.show()"
   ]
  },
  {
   "cell_type": "markdown",
   "id": "dced1cdc",
   "metadata": {},
   "source": [
    "### The crime rate seems to be concentrated in a particular area as visible in the scatter plot with the X and Y coordinates."
   ]
  },
  {
   "cell_type": "code",
   "execution_count": 88,
   "id": "8b107383",
   "metadata": {},
   "outputs": [
    {
     "name": "stderr",
     "output_type": "stream",
     "text": [
      "C:\\Users\\bapat\\AppData\\Local\\Temp\\ipykernel_17360\\2555426183.py:2: MatplotlibDeprecationWarning: The get_cmap function was deprecated in Matplotlib 3.7 and will be removed two minor releases later. Use ``matplotlib.colormaps[name]`` or ``matplotlib.colormaps.get_cmap(obj)`` instead.\n",
      "  colormap = plt.cm.get_cmap('viridis', max(df['VictimCount']) + 1)\n"
     ]
    },
    {
     "data": {
      "image/png": "[encoded data removed]",
      "text/plain": [
       "<Figure size 800x600 with 2 Axes>"
      ]
     },
     "metadata": {},
     "output_type": "display_data"
    }
   ],
   "source": [
    "# Define a colormap to map the number of persons to colors\n",
    "colormap = plt.cm.get_cmap('viridis', max(df['VictimCount']) + 1)\n",
    "\n",
    "# Create a scatter plot with colors based on the number of persons involved\n",
    "plt.figure(figsize=(8, 6))\n",
    "sc = plt.scatter(df['X'], df['Y'], c=df['VictimCount'], cmap=colormap)\n",
    "plt.colorbar(sc, label='Victim Count')\n",
    "plt.xlabel('X Coordinate')\n",
    "plt.ylabel('Y Coordinate')\n",
    "plt.title('Crime Incidents Scatter Plot by Victim Count')\n",
    "plt.show()"
   ]
  },
  {
   "cell_type": "markdown",
   "id": "8c4c35a9",
   "metadata": {},
   "source": [
    "### The scatter plot shows that the crimes are concentrated in an area, also the victim count is mostly 3 or 4."
   ]
  },
  {
   "cell_type": "code",
   "execution_count": 11,
   "id": "a3e76b4b",
   "metadata": {},
   "outputs": [],
   "source": [
    "day_crime_counts = df['DayOfWeek'].value_counts().reset_index()\n",
    "day_crime_counts.columns = ['DayOfWeek', 'CrimeCount']\n",
    "\n",
    "# Sort the counts by 'CrimeCount' in descending order\n",
    "sorted_day_crime_counts = day_crime_counts.sort_values(by='CrimeCount', ascending=False)"
   ]
  },
  {
   "cell_type": "code",
   "execution_count": 12,
   "id": "2bec1a45",
   "metadata": {},
   "outputs": [
    {
     "data": {
      "text/html": [
       "<div>\n",
       "<style scoped>\n",
       "    .dataframe tbody tr th:only-of-type {\n",
       "        vertical-align: middle;\n",
       "    }\n",
       "\n",
       "    .dataframe tbody tr th {\n",
       "        vertical-align: top;\n",
       "    }\n",
       "\n",
       "    .dataframe thead th {\n",
       "        text-align: right;\n",
       "    }\n",
       "</style>\n",
       "<table border=\"1\" class=\"dataframe\">\n",
       "  <thead>\n",
       "    <tr style=\"text-align: right;\">\n",
       "      <th></th>\n",
       "      <th>DayOfWeek</th>\n",
       "      <th>CrimeCount</th>\n",
       "    </tr>\n",
       "  </thead>\n",
       "  <tbody>\n",
       "    <tr>\n",
       "      <th>0</th>\n",
       "      <td>4</td>\n",
       "      <td>51</td>\n",
       "    </tr>\n",
       "    <tr>\n",
       "      <th>1</th>\n",
       "      <td>3</td>\n",
       "      <td>44</td>\n",
       "    </tr>\n",
       "    <tr>\n",
       "      <th>2</th>\n",
       "      <td>5</td>\n",
       "      <td>43</td>\n",
       "    </tr>\n",
       "    <tr>\n",
       "      <th>3</th>\n",
       "      <td>0</td>\n",
       "      <td>40</td>\n",
       "    </tr>\n",
       "    <tr>\n",
       "      <th>4</th>\n",
       "      <td>1</td>\n",
       "      <td>37</td>\n",
       "    </tr>\n",
       "    <tr>\n",
       "      <th>5</th>\n",
       "      <td>2</td>\n",
       "      <td>32</td>\n",
       "    </tr>\n",
       "    <tr>\n",
       "      <th>6</th>\n",
       "      <td>6</td>\n",
       "      <td>28</td>\n",
       "    </tr>\n",
       "  </tbody>\n",
       "</table>\n",
       "</div>"
      ],
      "text/plain": [
       "   DayOfWeek  CrimeCount\n",
       "0          4          51\n",
       "1          3          44\n",
       "2          5          43\n",
       "3          0          40\n",
       "4          1          37\n",
       "5          2          32\n",
       "6          6          28"
      ]
     },
     "execution_count": 12,
     "metadata": {},
     "output_type": "execute_result"
    }
   ],
   "source": [
    "sorted_day_crime_counts"
   ]
  },
  {
   "cell_type": "markdown",
   "id": "bb1174fe",
   "metadata": {},
   "source": [
    "### In pandas day_name() function, 0-6 represents Monday to Sunday, and from the above analysis we can see that most crimes are happening on Fridays."
   ]
  },
  {
   "cell_type": "code",
   "execution_count": null,
   "id": "0012385b",
   "metadata": {},
   "outputs": [],
   "source": []
  }
 ],
 "metadata": {
  "kernelspec": {
   "display_name": "Python [conda env:ai_assignment01]",
   "language": "python",
   "name": "conda-env-ai_assignment01-py"
  },
  "language_info": {
   "codemirror_mode": {
    "name": "ipython",
    "version": 3
   },
   "file_extension": ".py",
   "mimetype": "text/x-python",
   "name": "python",
   "nbconvert_exporter": "python",
   "pygments_lexer": "ipython3",
   "version": "3.11.4"
  }
 },
 "nbformat": 4,
 "nbformat_minor": 5
}
